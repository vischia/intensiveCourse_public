{
 "cells": [
  {
   "cell_type": "markdown",
   "metadata": {},
   "source": [
    "# Kelly's betting strategy\n",
    "\n",
    "Code copyright (c) Pietro Vischia, 2020\n",
    "\n",
    "The concept for this example is based on \"Surprises in Probability\" by Henk Tijms (CRC Press, 2019)"
   ]
  },
  {
   "cell_type": "markdown",
   "metadata": {},
   "source": [
    "### The investing framework\n",
    "\n",
    "At the beginning of the year you are given an amount of money ```initial_capital``` and access to the stock market.\n",
    "\n",
    "Every Monday, you can choose an amount of money to invest in one stock company.\n",
    "Every Friday, you must sell the stock you acquired, and the following Monday you can buy other stock.\n",
    "\n",
    "Suppose that the condition of the market is such that the probability that each week the chosen stock increments its value is ```p_increase``` (and the probability that it looses its value is therefore ```1-p_increase```).\n",
    "\n",
    "To fix the ideas, let's say that there is a 50%-50% chance that the stock gains or loses value over the week.\n",
    "Let's also suppose that when the stock increases its value, it does so by 80%, and that when it looses value it does so by 40%.\n",
    "\n",
    "What's the best investment strategy?"
   ]
  },
  {
   "cell_type": "code",
   "execution_count": 3,
   "metadata": {},
   "outputs": [],
   "source": [
    "import random\n",
    "import numpy as np\n",
    "%matplotlib inline\n",
    "import matplotlib.pyplot as plt\n",
    "\n",
    "nweeks=52 # weeks per year\n",
    "initial_capital=10000\n",
    "\n",
    "\n",
    "font = {'family': 'serif',\n",
    "        'color':  'darkred',\n",
    "        'weight': 'normal',\n",
    "        'size': 16,\n",
    "        }\n",
    "\n",
    "\n",
    "# Weekly probabilities\n",
    "p_increase=0.5\n",
    "increase=0.8\n",
    "# p_decrease=0.5 # of decreasing by 60%\n",
    "decrease=0.6\n",
    "\n",
    "def invest(money):\n",
    "    r=random.uniform(0,1)\n",
    "    return money*(1+increase) if (r>p_increase) else money*(1-decrease)\n"
   ]
  },
  {
   "cell_type": "markdown",
   "metadata": {},
   "source": [
    "### The average return\n",
    "\n",
    "The condition of the market seems favourable to us: although there is a 50%-50% weekly probability of increasing/decreasing stock value, the expected gain (80%) is larger than the expected loss (60%).\n",
    "\n",
    "If we compute the average variation in value of the stock for this market, using the simple form $\\sum_i p_i\\times g_i$, where $g_i$ is the expected gain,\n",
    "we obtain an average variation per week of $0.8\\times0.5 - 0.6\\times0.5 = 0.1$, i.e. a nice average weekly increase in value of 10%\n"
   ]
  },
  {
   "cell_type": "markdown",
   "metadata": {},
   "source": [
    "### First betting strategy: invest the full amount every week\n",
    "\n",
    "Given this favourable market situation, we can think of investing every week our entire starting capital, say 10000 euro.\n",
    "\n",
    "\n",
    "**Question 1:** If I bet each week the whole capital, after one year I will most likely:\n",
    "- Have a couple euros (dramatically loose)\n",
    "- Have about  10k euros (neither win nor lose)\n",
    "- Have about 11000 euros (average 10% return of the market)\n",
    "- Will have gained 100k euro or more (dramatically win)\n",
    "\n",
    "Time for a poll! (go to mentimeter)\n",
    "\n",
    "If you are doing this exercise on your own, try to answer honestly and then proceed to find out if you were right!\n"
   ]
  },
  {
   "cell_type": "code",
   "execution_count": 4,
   "metadata": {},
   "outputs": [],
   "source": [
    "# Strategy 1: invest the full amount every week\n",
    "\n",
    "def all_in(money):\n",
    "    capital=money\n",
    "    # Simulate the year\n",
    "    for i in range(nweeks):\n",
    "        capital=invest(capital) # every time I invest the full capital\n",
    "    return capital\n",
    "    \n"
   ]
  },
  {
   "cell_type": "code",
   "execution_count": 5,
   "metadata": {},
   "outputs": [],
   "source": [
    "# Run toys for strategy 1\n",
    "results=[]\n",
    "for _ in range(1000000):\n",
    "    results.append(all_in(initial_capital)/initial_capital)\n",
    "\n",
    "results=np.array(results)\n",
    "    "
   ]
  },
  {
   "cell_type": "code",
   "execution_count": 6,
   "metadata": {},
   "outputs": [
    {
     "data": {
      "text/plain": [
       "Text(6.5, 0.4, 'Maintain or gain money\\n 6.3%')"
      ]
     },
     "execution_count": 6,
     "metadata": {},
     "output_type": "execute_result"
    },
    {
     "data": {
      "image/png": "[encoded data removed]",
      "text/plain": [
       "<Figure size 1152x432 with 1 Axes>"
      ]
     },
     "metadata": {
      "needs_background": "light"
     },
     "output_type": "display_data"
    }
   ],
   "source": [
    "def categorize(x):\n",
    "    if x<=0.0001:\n",
    "        return 0\n",
    "    if x<=0.001:\n",
    "        return 1\n",
    "    if x<=0.01:\n",
    "        return 2\n",
    "    if x<=0.1:\n",
    "        return 3\n",
    "    if x<=0.5:\n",
    "        return 4\n",
    "    if x<=1.:\n",
    "        return 5\n",
    "    if x<=5:\n",
    "        return 6\n",
    "    if x<=10:\n",
    "        return 7\n",
    "    if x<=100:\n",
    "        return 8\n",
    "    return 9\n",
    "\n",
    "\n",
    "conv_results=[categorize(x) for x in results]\n",
    "\n",
    "xticks_labels=[\"<=0.0001\", \n",
    "               \"0.0001\\nto\\n0.001\",\n",
    "               \"0.001\\nto\\n0.01\",\n",
    "               \"0.01\\nto\\n0.1\",\n",
    "               \"0.1\\nto\\n0.5\",\n",
    "               \"0.5\\nto\\n1\",\n",
    "               \"1 to 5\",\n",
    "               \"5 to 10\",\n",
    "               \"10 to 100\",\n",
    "               \">100\"\n",
    "              ]\n",
    "fig = plt.figure(figsize=(16,6))\n",
    "n, bins, patches = plt.hist(conv_results, bins=np.linspace(0,10,11),density=True)    \n",
    "xticks = [(bins[idx+1] + value)/2 for idx, value in enumerate(bins[:-1])]\n",
    "plt.xticks(xticks, labels = xticks_labels)\n",
    "plt.axvline(x=6, ymin=0, ymax=1, c='red')\n",
    "plt.xlabel(\"Fraction of initial capital remaining after one year\")\n",
    "plt.ylabel(\"Density\")\n",
    "plt.text(4.5, 0.4, \"Loose money\\n %02.1f%%\"%(100*(results< 1).sum()/len(results) ), c='red',fontdict=font)\n",
    "plt.text(6.5, 0.4, \"Maintain or gain money\\n %02.1f%%\"%(100*(results>=1).sum()/len(results) ), c='red', fontdict=font)\n",
    "\n",
    "#plt.yscale(\"log\")"
   ]
  },
  {
   "cell_type": "markdown",
   "metadata": {},
   "source": [
    "### Think in probabilities!\n",
    "\n",
    "The average weekly increase in stock is indeed 10%.\n",
    "\n",
    "However, if you think in probabilities: given a ```p_increase=0.5```, the most likely outcome is that 50% of the times the stock will loose its value and 50% of the times it will gain value.\n",
    "\n",
    "Over 52 weeks, this will imply a final capital of:\n",
    "$1.8^{26}\\times0.4^{26}\\times10000 = 1.95$ euro\n",
    "\n",
    "And from toys we have seen that we will loose money a staggering 94% of the times, almost 50% of the times will remain with only a couple euro in hand, and will maintain or gain money only 6% of the times!\n",
    "\n"
   ]
  },
  {
   "cell_type": "markdown",
   "metadata": {},
   "source": [
    "### Kelly's strategy\n",
    "\n",
    "Initial bankroll: $W_0$\n",
    "\n",
    "Stake a fixed fraction $f$  each time\n",
    "\n",
    "The bankroll will:\n",
    "- increase by $1-f+f\\cdot(1+increase)$ with probability $p_{increase}$\n",
    "- decrease by $1-f+f\\cdot(1-decrease)$ with probability $1-p_{increase}$\n",
    "\n",
    "Denote:\n",
    "- the bankroll after $n$ bets as $W_n$.\n",
    "- the number of times you win the bet as $W$\n",
    "- the number of times you loose the bet as $L$\n",
    "\n",
    "Then, \n",
    "$W_n = (1-f+f\\cdot(1+increase))^W \\times (1-f+f\\cdot(1-decrease))^L \\times W_0$\n",
    "\n",
    "Now define a random variable $G_n$ representing the growth factor of your bankroll after the first $n$ bets\n",
    "\n",
    "$ e^{nG_n} W_0 = W_n$\n",
    "\n",
    "or $G_n = \\frac{1}{n} ln(W_n/W_0)$\n",
    "\n",
    "Taking the log,\n",
    "\n",
    "$G_n = \\frac{W}{n} ln(1-f+f\\cdot(1+increase)) + \\frac{L}{n}(1-f+f\\cdot(1-decrease))$\n",
    "\n",
    "Over a long number of runs, by the strong law of large numbers:\n",
    "\n",
    "- $frac{W}{n}\\to p_{increase}$\n",
    "- $frac{L}{n}\\to 1-p_{increase}$\n",
    "\n",
    "And on the long run, as a function of the fixed amount you bet,\n",
    "\n",
    "$g(f) =  p_{increase} ln(1-f+f\\cdot(1+increase)) + (1-p_{increase})(1-f+f\\cdot(1-decrease))$\n",
    "\n",
    "We want to maximize the long run growth factor, as a function of the amount we bet, to find the optimal amount to bet\n",
    "By derivation and some algebra,\n",
    "\n",
    "$f_{Kelly} = \\frac{p_{increase}\\cdot(1+increase) + (1-p_{increase})\\cdot(1-decrease) -1}{((1+increase)-1)(1-(1-decrease))}$\n"
   ]
  },
  {
   "cell_type": "code",
   "execution_count": 8,
   "metadata": {
    "scrolled": false
   },
   "outputs": [
    {
     "name": "stdout",
     "output_type": "stream",
     "text": [
      "Kelly fraction: 0.20833333333333354\n"
     ]
    }
   ],
   "source": [
    "# Strategy 2: \n",
    "\n",
    "fkelly= (p_increase*(1+increase)+(1-p_increase)*(1-decrease)-1)/(((1+increase)-1)*(1-(1-decrease)))\n",
    "\n",
    "print('Kelly fraction:', fkelly)\n",
    "\n",
    "def fixed_kelly_fraction(money):\n",
    "    capital=money\n",
    "    # Simulate the year\n",
    "    for i in range(nweeks):\n",
    "        bet=fkelly*capital\n",
    "        capital-=bet\n",
    "        payoff=invest(bet) # every time I invest the full capital\n",
    "        capital+=payoff\n",
    "    return capital\n",
    "    \n",
    "    \n",
    "    "
   ]
  },
  {
   "cell_type": "markdown",
   "metadata": {},
   "source": [
    "Run toys for Kelly's strategy"
   ]
  },
  {
   "cell_type": "code",
   "execution_count": 9,
   "metadata": {},
   "outputs": [],
   "source": [
    "# Run toys for strategy 1\n",
    "results=[]\n",
    "for _ in range(1000000):\n",
    "    results.append(fixed_kelly_fraction(initial_capital)/initial_capital)\n",
    "\n",
    "results=np.array(results)\n",
    "    "
   ]
  },
  {
   "cell_type": "code",
   "execution_count": 10,
   "metadata": {},
   "outputs": [
    {
     "data": {
      "text/plain": [
       "Text(6.5, 0.4, 'Maintain or gain money\\n 66.1%')"
      ]
     },
     "execution_count": 10,
     "metadata": {},
     "output_type": "execute_result"
    },
    {
     "data": {
      "image/png": "[encoded data removed]",
      "text/plain": [
       "<Figure size 1152x432 with 1 Axes>"
      ]
     },
     "metadata": {
      "needs_background": "light"
     },
     "output_type": "display_data"
    }
   ],
   "source": [
    "def categorize(x):\n",
    "    if x<=0.0001:\n",
    "        return 0\n",
    "    if x<=0.001:\n",
    "        return 1\n",
    "    if x<=0.01:\n",
    "        return 2\n",
    "    if x<=0.1:\n",
    "        return 3\n",
    "    if x<=0.5:\n",
    "        return 4\n",
    "    if x<=1.:\n",
    "        return 5\n",
    "    if x<=5:\n",
    "        return 6\n",
    "    if x<=10:\n",
    "        return 7\n",
    "    if x<=100:\n",
    "        return 8\n",
    "    return 9\n",
    "\n",
    "\n",
    "conv_results=[categorize(x) for x in results]\n",
    "\n",
    "xticks_labels=[\"<=0.0001\", \n",
    "               \"0.0001\\nto\\n0.001\",\n",
    "               \"0.001\\nto\\n0.01\",\n",
    "               \"0.01\\nto\\n0.1\",\n",
    "               \"0.1\\nto\\n0.5\",\n",
    "               \"0.5\\nto\\n1\",\n",
    "               \"1 to 5\",\n",
    "               \"5 to 10\",\n",
    "               \"10 to 100\",\n",
    "               \">100\"\n",
    "              ]\n",
    "fig = plt.figure(figsize=(16,6))\n",
    "n, bins, patches = plt.hist(conv_results, bins=np.linspace(0,10,11),density=True)    \n",
    "xticks = [(bins[idx+1] + value)/2 for idx, value in enumerate(bins[:-1])]\n",
    "plt.xticks(xticks, labels = xticks_labels)\n",
    "plt.axvline(x=6, ymin=0, ymax=1, c='red')\n",
    "plt.xlabel(\"Fraction of initial capital remaining after one year\")\n",
    "plt.ylabel(\"Density\")\n",
    "plt.text(4.5, 0.4, \"Loose money\\n %02.1f%%\"%(100*(results< 1).sum()/len(results) ), c='red',fontdict=font)\n",
    "plt.text(6.5, 0.4, \"Maintain or gain money\\n %02.1f%%\"%(100*(results>=1).sum()/len(results) ), c='red', fontdict=font)\n",
    "\n",
    "#plt.yscale(\"log\")"
   ]
  },
  {
   "cell_type": "markdown",
   "metadata": {},
   "source": [
    "Kelly's strategy allows to reduce to abut zero the probability of ending up with a couple euros after one year.\n",
    "\n",
    "An investor would get:\n",
    "- 66% probability of ending up with more than 10k euros\n",
    "- About 45% probability of ending up with more than 20k euros"
   ]
  },
  {
   "cell_type": "code",
   "execution_count": null,
   "metadata": {},
   "outputs": [],
   "source": []
  }
 ],
 "metadata": {
  "kernelspec": {
   "display_name": "Python 3",
   "language": "python",
   "name": "python3"
  },
  "language_info": {
   "codemirror_mode": {
    "name": "ipython",
    "version": 3
   },
   "file_extension": ".py",
   "mimetype": "text/x-python",
   "name": "python",
   "nbconvert_exporter": "python",
   "pygments_lexer": "ipython3",
   "version": "3.8.6"
  }
 },
 "nbformat": 4,
 "nbformat_minor": 4
}
