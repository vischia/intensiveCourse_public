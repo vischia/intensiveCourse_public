{
 "cells": [
  {
   "cell_type": "markdown",
   "metadata": {},
   "source": [
    "# CL_s\n",
    "\n",
    "Adapted from the pyhf starting tutorial (added plots, scans, etc)"
   ]
  },
  {
   "cell_type": "markdown",
   "metadata": {},
   "source": [
    "Two bin counting experiment with a background uncertainty"
   ]
  },
  {
   "cell_type": "code",
   "execution_count": 1,
   "metadata": {},
   "outputs": [
    {
     "name": "stdout",
     "output_type": "stream",
     "text": [
      "0.6.3\n"
     ]
    }
   ],
   "source": [
    "import pyhf\n",
    "import matplotlib.pyplot as plt\n",
    "import numpy as np\n",
    "%matplotlib inline\n",
    "print(pyhf.__version__)"
   ]
  },
  {
   "cell_type": "markdown",
   "metadata": {},
   "source": [
    "Returning the observed and expected $\\mathrm{CL}_{s}$"
   ]
  },
  {
   "cell_type": "code",
   "execution_count": 3,
   "metadata": {
    "scrolled": true
   },
   "outputs": [
    {
     "name": "stdout",
     "output_type": "stream",
     "text": [
      "Observed: 0.05251497423736956, Expected: 0.06445320535890459\n"
     ]
    },
    {
     "name": "stderr",
     "output_type": "stream",
     "text": [
      "/tmp/ipykernel_112519/1024538497.py:1: DeprecationWarning: pyhf.simplemodels.hepdata_like is deprecated in favor of pyhf.simplemodels.uncorrelated_background as of pyhf v0.6.2 and will be removed in release 0.7.0. Please use pyhf.simplemodels.uncorrelated_background.\n",
      "  pdf = pyhf.simplemodels.hepdata_like(signal_data=[12.0, 11.0], bkg_data=[50.0, 52.0], bkg_uncerts=[3.0, 7.0])\n"
     ]
    }
   ],
   "source": [
    "pdf = pyhf.simplemodels.hepdata_like(signal_data=[12.0, 11.0], bkg_data=[50.0, 52.0], bkg_uncerts=[3.0, 7.0])\n",
    "\n",
    "\n",
    "CLs_obs, CLs_exp = pyhf.infer.hypotest(1.0, [51, 48] + pdf.config.auxdata, pdf, test_stat=\"qtilde\", return_expected=True)\n",
    "\n",
    "print('Observed: {}, Expected: {}'.format(CLs_obs, CLs_exp))"
   ]
  },
  {
   "cell_type": "markdown",
   "metadata": {},
   "source": [
    "Make a few tries!\n",
    "\n",
    "- Turn off uncertainties\n",
    "- Play with the expected signal and background yields\n",
    "- Play with the observed data yields\n",
    "- Plot observed and expected as a function of these"
   ]
  },
  {
   "cell_type": "code",
   "execution_count": 4,
   "metadata": {},
   "outputs": [
    {
     "name": "stderr",
     "output_type": "stream",
     "text": [
      "/tmp/ipykernel_112519/301802352.py:7: DeprecationWarning: pyhf.simplemodels.hepdata_like is deprecated in favor of pyhf.simplemodels.uncorrelated_background as of pyhf v0.6.2 and will be removed in release 0.7.0. Please use pyhf.simplemodels.uncorrelated_background.\n",
      "  pdf = pyhf.simplemodels.hepdata_like(signal_data=[12.0, 11.0], bkg_data=[50.0, 52.0], bkg_uncerts=[3.0, 7.0])\n"
     ]
    },
    {
     "data": {
      "text/plain": [
       "[<matplotlib.lines.Line2D at 0x7f25a03fdee0>]"
      ]
     },
     "execution_count": 4,
     "metadata": {},
     "output_type": "execute_result"
    },
    {
     "data": {
      "image/png": "[encoded data removed]",
      "text/plain": [
       "<Figure size 432x288 with 1 Axes>"
      ]
     },
     "metadata": {
      "needs_background": "light"
     },
     "output_type": "display_data"
    }
   ],
   "source": [
    "# For example...\n",
    "\n",
    "CLs_obs=[]\n",
    "CLs_exp=[]\n",
    "fix, ax = plt.subplots(1,1)\n",
    "for obs_data in [ [45, 40], [51, 48], [60, 55], [70, 65]   ]:\n",
    "    pdf = pyhf.simplemodels.hepdata_like(signal_data=[12.0, 11.0], bkg_data=[50.0, 52.0], bkg_uncerts=[3.0, 7.0])\n",
    "    iCLs_obs, iCLs_exp = pyhf.infer.hypotest(1.0, obs_data + pdf.config.auxdata, pdf,  test_stat=\"qtilde\", return_expected=True)\n",
    "    CLs_obs.append(iCLs_obs)\n",
    "    CLs_exp.append(iCLs_exp)\n",
    "\n",
    "plt.plot(list(range(0,len(CLs_obs))), CLs_obs, color=\"red\", linestyle=\"solid\")\n",
    "plt.plot(list(range(0,len(CLs_exp))), CLs_exp, color=\"black\", linestyle=\"solid\")"
   ]
  },
  {
   "cell_type": "markdown",
   "metadata": {},
   "source": [
    "Returning the observed $\\mathrm{CL}_{s}$, $\\mathrm{CL}_{s+b}$, **and** $\\mathrm{CL}_{b}$"
   ]
  },
  {
   "cell_type": "code",
   "execution_count": 5,
   "metadata": {},
   "outputs": [
    {
     "name": "stdout",
     "output_type": "stream",
     "text": [
      "Observed CL_s: 0.05251497423736956, CL_sb: 0.023325019427864607, CL_b: 0.4441593996111411\n"
     ]
    }
   ],
   "source": [
    "CLs_obs, p_values = pyhf.infer.hypotest(1.0, [51, 48] + pdf.config.auxdata, pdf, test_stat=\"qtilde\",  return_tail_probs=True)\n",
    "print('Observed CL_s: {}, CL_sb: {}, CL_b: {}'.format(CLs_obs, p_values[0], p_values[1]))"
   ]
  },
  {
   "cell_type": "markdown",
   "metadata": {},
   "source": [
    "A reminder that \n",
    "$$\n",
    "\\mathrm{CL}_{s} = \\frac{\\mathrm{CL}_{s+b}}{\\mathrm{CL}_{b}} = \\frac{p_{s+b}}{1-p_{b}}\n",
    "$$"
   ]
  },
  {
   "cell_type": "markdown",
   "metadata": {},
   "source": [
    "Exercise: for the different tests you did above, plot CL_s, CL_sb, and CL_b"
   ]
  },
  {
   "cell_type": "code",
   "execution_count": 6,
   "metadata": {},
   "outputs": [
    {
     "name": "stderr",
     "output_type": "stream",
     "text": [
      "/tmp/ipykernel_112519/2486399438.py:8: DeprecationWarning: pyhf.simplemodels.hepdata_like is deprecated in favor of pyhf.simplemodels.uncorrelated_background as of pyhf v0.6.2 and will be removed in release 0.7.0. Please use pyhf.simplemodels.uncorrelated_background.\n",
      "  pdf = pyhf.simplemodels.hepdata_like(signal_data=signal_data, bkg_data=[50.0, 52.0], bkg_uncerts=[3.0, 7.0])\n"
     ]
    },
    {
     "data": {
      "text/plain": [
       "[<matplotlib.lines.Line2D at 0x7f25a027e0a0>]"
      ]
     },
     "execution_count": 6,
     "metadata": {},
     "output_type": "execute_result"
    },
    {
     "data": {
      "image/png": "[encoded data removed]",
      "text/plain": [
       "<Figure size 432x288 with 1 Axes>"
      ]
     },
     "metadata": {
      "needs_background": "light"
     },
     "output_type": "display_data"
    }
   ],
   "source": [
    "# For example...\n",
    "\n",
    "CLs=[]\n",
    "CLsb=[]\n",
    "CLb=[]\n",
    "fix, ax = plt.subplots(1,1)\n",
    "for signal_data in [ [1.0, 0.5], [5.0, 4.8], [12.0, 11.0], [13.0, 12.0], [20.0, 17.0]   ]:\n",
    "    pdf = pyhf.simplemodels.hepdata_like(signal_data=signal_data, bkg_data=[50.0, 52.0], bkg_uncerts=[3.0, 7.0])\n",
    "    iCLs_obs, ip_values = pyhf.infer.hypotest(1.0, [51, 48] + pdf.config.auxdata, pdf, test_stat=\"qtilde\",  return_tail_probs=True)\n",
    "    CLs.append(iCLs_obs)\n",
    "    CLsb.append(ip_values[0])\n",
    "    CLb.append(ip_values[1])\n",
    "\n",
    "plt.plot(list(range(0,len(CLs))), CLs, color=\"red\", linestyle=\"solid\")\n",
    "plt.plot(list(range(0,len(CLsb))), CLsb, color=\"black\", linestyle=\"solid\")\n",
    "plt.plot(list(range(0,len(CLb))), CLb, color=\"blue\", linestyle=\"solid\")"
   ]
  },
  {
   "cell_type": "code",
   "execution_count": 7,
   "metadata": {},
   "outputs": [],
   "source": [
    "assert CLs_obs == p_values[0]/p_values[1]"
   ]
  },
  {
   "cell_type": "markdown",
   "metadata": {},
   "source": [
    "Returning the expected $\\mathrm{CL}_{s}$ band values"
   ]
  },
  {
   "cell_type": "code",
   "execution_count": 8,
   "metadata": {},
   "outputs": [],
   "source": [
    "import numpy as np"
   ]
  },
  {
   "cell_type": "code",
   "execution_count": 9,
   "metadata": {
    "scrolled": true
   },
   "outputs": [
    {
     "name": "stdout",
     "output_type": "stream",
     "text": [
      "Observed CL_s: 0.00244236222781897\n",
      "\n",
      "0\n",
      "Expected CL_s(-2 σ): 1.7873442528151073e-05\n",
      "1\n",
      "Expected CL_s(-1 σ): 0.0002653094542738306\n",
      "2\n",
      "Expected CL_s      : 0.0033661165802891485\n",
      "3\n",
      "Expected CL_s(1 σ): 0.03169900124726084\n",
      "4\n",
      "Expected CL_s(2 σ): 0.17971507788342778\n"
     ]
    }
   ],
   "source": [
    "CLs_obs, CLs_exp_band = pyhf.infer.hypotest(1.0, [51, 48] + pdf.config.auxdata, pdf,  test_stat=\"qtilde\", return_expected_set=True)\n",
    "print('Observed CL_s: {}\\n'.format(CLs_obs))\n",
    "for p_value, n_sigma in enumerate(np.arange(-2,3)):\n",
    "    print(p_value)\n",
    "    print('Expected CL_s{}: {}'.format('      ' if n_sigma==0 else '({} σ)'.format(n_sigma),CLs_exp_band[p_value]))"
   ]
  },
  {
   "cell_type": "markdown",
   "metadata": {},
   "source": [
    "Exercise: plot the evolution of the bands for increasing/decreasing background uncertainty (brazilian plot)"
   ]
  },
  {
   "cell_type": "code",
   "execution_count": 10,
   "metadata": {},
   "outputs": [
    {
     "name": "stderr",
     "output_type": "stream",
     "text": [
      "/tmp/ipykernel_112519/56731645.py:11: DeprecationWarning: pyhf.simplemodels.hepdata_like is deprecated in favor of pyhf.simplemodels.uncorrelated_background as of pyhf v0.6.2 and will be removed in release 0.7.0. Please use pyhf.simplemodels.uncorrelated_background.\n",
      "  pdf = pyhf.simplemodels.hepdata_like(signal_data=[12.0, 11.0], bkg_data=[50.0, 52.0], bkg_uncerts=bkg_uncerts)\n"
     ]
    },
    {
     "data": {
      "text/plain": [
       "Text(0.5, 0, 'Different settings for background uncertainty')"
      ]
     },
     "execution_count": 10,
     "metadata": {},
     "output_type": "execute_result"
    },
    {
     "data": {
      "image/png": "[encoded data removed]",
      "text/plain": [
       "<Figure size 432x288 with 1 Axes>"
      ]
     },
     "metadata": {
      "needs_background": "light"
     },
     "output_type": "display_data"
    }
   ],
   "source": [
    "# For example...\n",
    "\n",
    "obs=[]\n",
    "exp=[]\n",
    "exp_m1s=[]\n",
    "exp_p1s=[]\n",
    "exp_m2s=[]\n",
    "exp_p2s=[]\n",
    "fix, ax = plt.subplots(1,1)\n",
    "for bkg_uncerts in [ [0.03, 0.01], [1.0, 4.8], [3.0, 7.0], [5, 1.0], [10.0, 20.0]   ]:\n",
    "    pdf = pyhf.simplemodels.hepdata_like(signal_data=[12.0, 11.0], bkg_data=[50.0, 52.0], bkg_uncerts=bkg_uncerts)\n",
    "    iCLs_obs, iCLs_exp_band = pyhf.infer.hypotest(1.0, [51, 48] + pdf.config.auxdata, pdf,  test_stat=\"qtilde\", return_expected_set=True)\n",
    "    obs.append(iCLs_obs)\n",
    "    exp.append(iCLs_exp_band[2])\n",
    "    exp_m1s.append(iCLs_exp_band[1])\n",
    "    exp_p1s.append(iCLs_exp_band[3])\n",
    "    exp_m2s.append(iCLs_exp_band[0])\n",
    "    exp_p2s.append(iCLs_exp_band[4])\n",
    "\n",
    "plt.plot(list(range(0,len(obs))), obs, color=\"red\", linestyle=\"dashed\")\n",
    "plt.plot(list(range(0,len(exp))), exp, color=\"black\", linestyle=\"solid\")\n",
    "plt.plot(list(range(0,len(exp_m1s))), exp_m1s, color=\"yellow\", linestyle=\"solid\")\n",
    "plt.plot(list(range(0,len(exp_p1s))), exp_p1s, color=\"yellow\", linestyle=\"solid\")\n",
    "plt.plot(list(range(0,len(exp_m2s))), exp_m2s, color=\"green\", linestyle=\"solid\")\n",
    "plt.plot(list(range(0,len(exp_p2s))), exp_p2s, color=\"green\", linestyle=\"solid\")\n",
    "plt.xlabel('Different settings for background uncertainty')\n"
   ]
  },
  {
   "cell_type": "markdown",
   "metadata": {},
   "source": [
    "## The distribution of the $\\tilde{q}_\\mu$ test statistic\n",
    "\n",
    "\n",
    "Let's check the distribution of our test statistic\n",
    "$$\\tilde{q}_\\mu =\n",
    "\\begin{cases}\n",
    "\\tilde{t}_\\mu,\\;\\text{$\\hat{\\mu}<\\mu$}\\\\\n",
    "0,\\; \\text{else}\n",
    "\\end{cases}\n",
    "$$\n",
    "\n",
    "\n",
    "First we create some toys for a true value of mu of 1.0\n"
   ]
  },
  {
   "cell_type": "code",
   "execution_count": 11,
   "metadata": {},
   "outputs": [
    {
     "name": "stderr",
     "output_type": "stream",
     "text": [
      "/tmp/ipykernel_112519/68403808.py:6: DeprecationWarning: pyhf.simplemodels.hepdata_like is deprecated in favor of pyhf.simplemodels.uncorrelated_background as of pyhf v0.6.2 and will be removed in release 0.7.0. Please use pyhf.simplemodels.uncorrelated_background.\n",
      "  model = pyhf.simplemodels.hepdata_like(\n",
      "/home/junzi/.local/lib/python3.9/site-packages/pyhf/tensor/numpy_backend.py:352: RuntimeWarning: invalid value encountered in log\n",
      "  return n * np.log(lam) - lam - gammaln(n + 1.0)\n"
     ]
    }
   ],
   "source": [
    "true_poi = 1.0\n",
    "n_toys = 300\n",
    "\n",
    "# Back to one bin\n",
    "#model = pyhf.simplemodels.hepdata_like(signal_data=[12.0], bkg_data=[100.0], bkg_uncerts=[10.0])\n",
    "model = pyhf.simplemodels.hepdata_like(\n",
    "    signal_data=[10.0], bkg_data=[100.0], bkg_uncerts=[10.0]\n",
    ")\n",
    "unbounded_bounds = model.config.suggested_bounds()\n",
    "unbounded_bounds[model.config.poi_index] = (-10, 10)\n",
    "bounded_bounds = model.config.suggested_bounds()\n",
    "fixed_params = model.config.suggested_fixed()\n",
    "\n",
    "\n",
    "toys = model.make_pdf(pyhf.tensorlib.astensor([true_poi, 1.0])).sample((n_toys,))\n",
    "\n",
    "\n",
    "\n",
    "pars = np.asarray(\n",
    "    [pyhf.infer.mle.fit(toy, model, par_bounds=unbounded_bounds) for toy in toys]\n",
    ")\n",
    "\n"
   ]
  },
  {
   "cell_type": "markdown",
   "metadata": {},
   "source": [
    "We now check that they are OK by checking that the mean of their sampling distribution is close to the true POI"
   ]
  },
  {
   "cell_type": "code",
   "execution_count": 12,
   "metadata": {},
   "outputs": [
    {
     "data": {
      "image/png": "[encoded data removed]",
      "text/plain": [
       "<Figure size 504x360 with 1 Axes>"
      ]
     },
     "metadata": {
      "needs_background": "light"
     },
     "output_type": "display_data"
    }
   ],
   "source": [
    "muhat = pars[:, model.config.poi_index]\n",
    "muhat_sigma = np.std(muhat)\n",
    "\n",
    "\n",
    "fig, ax = plt.subplots()\n",
    "fig.set_size_inches(7, 5)\n",
    "\n",
    "ax.set_xlabel(r\"$\\hat{\\mu}$\")\n",
    "ax.set_ylabel(\"Density\")\n",
    "ax.set_ylim(top=0.5)\n",
    "\n",
    "ax.hist(muhat, bins=np.linspace(-4, 5, 31), density=True)\n",
    "ax.axvline(true_poi, label=\"true poi\", color=\"black\", linestyle=\"dashed\")\n",
    "ax.axvline(np.mean(muhat), label=\"empirical mean\", color=\"red\", linestyle=\"dashed\")\n",
    "ax.legend();"
   ]
  },
  {
   "cell_type": "markdown",
   "metadata": {},
   "source": [
    "Now we calculate the value of our test statistic, both with toys (`qmu_tilde`) and in the asymptotic approximation, for a test value of $\\mu$ of 1 (equal to the true value we have generated toys with)"
   ]
  },
  {
   "cell_type": "code",
   "execution_count": 13,
   "metadata": {},
   "outputs": [],
   "source": [
    "test_poi = 1.0\n",
    "\n",
    "qmu_tilde = np.asarray(\n",
    "    [\n",
    "        pyhf.infer.test_statistics.qmu_tilde(\n",
    "            test_poi,\n",
    "            toy,\n",
    "            model,\n",
    "            init_pars=model.config.suggested_init(),\n",
    "            par_bounds=bounded_bounds,fixed_params=fixed_params\n",
    "        )\n",
    "        for toy in toys\n",
    "    ]\n",
    ")\n",
    "\n",
    "\n",
    "def tmu_asymp(mutest, muhat, sigma):\n",
    "    return (mutest - muhat) ** 2 / sigma ** 2\n",
    "\n",
    "\n",
    "def tmu_tilde_asymp(mutest, muhat, sigma):\n",
    "    a = tmu_asymp(mutest, muhat, sigma)\n",
    "    b = tmu_asymp(mutest, muhat, sigma) - tmu_asymp(0.0, muhat, sigma)\n",
    "    return np.where(muhat > 0, a, b)\n",
    "\n",
    "\n",
    "def qmu_asymp(mutest, muhat, sigma):\n",
    "    return np.where(\n",
    "        muhat < mutest, tmu_asymp(mutest, muhat, sigma), np.zeros_like(muhat)\n",
    "    )\n",
    "\n",
    "\n",
    "def qmu_tilde_asymp(mutest, muhat, sigma):\n",
    "    return np.where(\n",
    "        muhat < mutest, tmu_tilde_asymp(mutest, muhat, sigma), np.zeros_like(muhat)\n",
    "    )\n"
   ]
  },
  {
   "cell_type": "markdown",
   "metadata": {},
   "source": [
    "We can finally plot our test statistic, both with toys and in the asymptotic case"
   ]
  },
  {
   "cell_type": "code",
   "execution_count": 14,
   "metadata": {},
   "outputs": [
    {
     "data": {
      "text/plain": [
       "<matplotlib.legend.Legend at 0x7f25a00a0f70>"
      ]
     },
     "execution_count": 14,
     "metadata": {},
     "output_type": "execute_result"
    },
    {
     "data": {
      "image/png": "[encoded data removed]",
      "text/plain": [
       "<Figure size 720x720 with 1 Axes>"
      ]
     },
     "metadata": {
      "needs_background": "light"
     },
     "output_type": "display_data"
    }
   ],
   "source": [
    "muhat_asymp = np.linspace(-3, 5)\n",
    "fig, ax = plt.subplots(1,1)\n",
    "fig.set_size_inches(10, 10)\n",
    "\n",
    "label = \"$\\\\tilde{q}_{\\\\mu}$\"\n",
    "data = (qmu_tilde, qmu_tilde_asymp)\n",
    "\n",
    "empirical, asymp_func = data\n",
    "ax.scatter(muhat, empirical, alpha=0.2, label=label)\n",
    "ax.plot(\n",
    "    muhat_asymp,\n",
    "    asymp_func(1.0, muhat_asymp, muhat_sigma),\n",
    "    label=f\"{label} asymptotic\",\n",
    "    c=\"r\",\n",
    ")\n",
    "ax.set_xlabel(r\"$\\hat{\\mu}$\")\n",
    "ax.set_ylabel(f\"{label}\")\n",
    "ax.legend(loc=\"best\")\n",
    "\n"
   ]
  },
  {
   "cell_type": "markdown",
   "metadata": {},
   "source": [
    "Now let' calculate upper limits for one setting of our data.\n",
    "\n",
    "We will compute the $CL_s$ test statistic for various value of the parameter $\\mu$"
   ]
  },
  {
   "cell_type": "code",
   "execution_count": 20,
   "metadata": {},
   "outputs": [
    {
     "data": {
      "image/png": "[encoded data removed]",
      "text/plain": [
       "<Figure size 504x360 with 1 Axes>"
      ]
     },
     "metadata": {
      "needs_background": "light"
     },
     "output_type": "display_data"
    }
   ],
   "source": [
    "\n",
    "import pyhf.contrib.viz.brazil\n",
    "mu_tests = np.linspace(0, 5,16)\n",
    "hypo_tests = [\n",
    "    pyhf.infer.hypotest(\n",
    "        mu,\n",
    "        [51, 48] + pdf.config.auxdata,\n",
    "        pdf,\n",
    "        test_stat=\"qtilde\", return_expected_set=True,\n",
    "    )\n",
    "    for mu in mu_tests\n",
    "]\n",
    "\n",
    "fig, (ax1) = plt.subplots(1, 1)\n",
    "fig.set_size_inches(7, 5)\n",
    "\n",
    "ax1.set_title(\"Hypothesis Tests\")\n",
    "ax1.set_ylabel(\"CLs\")\n",
    "ax1.set_xlabel(\"µ\")\n",
    "\n",
    "pyhf.contrib.viz.brazil.plot_results(mu_tests, hypo_tests);  #ax1, mu_tests, hypo_tests);\n"
   ]
  },
  {
   "cell_type": "markdown",
   "metadata": {},
   "source": [
    "And now we compute the 95\\% CL upper limit as the crossing of our $CL_s$ test statistic with our chosen significance $\\alpha=1-CL = 0.05$ (the red line in the plot above)"
   ]
  },
  {
   "cell_type": "code",
   "execution_count": 21,
   "metadata": {},
   "outputs": [
    {
     "name": "stdout",
     "output_type": "stream",
     "text": [
      "Observed Limit: 1.66\n",
      "-----\n",
      "Expected Limit(-2 σ): 0.950\n",
      "Expected Limit(-1 σ): 1.254\n",
      "Expected Limit: 1.676\n",
      "Expected Limit(1 σ): 2.300\n",
      "Expected Limit(2 σ): 3.016\n"
     ]
    }
   ],
   "source": [
    "def invert_interval(test_mus, hypo_tests, test_size=0.05):\n",
    "    cls_obs = np.array([test[0] for test in hypo_tests]).flatten()\n",
    "    cls_exp = [\n",
    "        np.array([test[1][i] for test in hypo_tests]).flatten() for i in range(5)\n",
    "    ]\n",
    "    crossing_test_stats = {\"exp\": [], \"obs\": None}\n",
    "    for cls_exp_sigma in cls_exp:\n",
    "        crossing_test_stats[\"exp\"].append(\n",
    "            np.interp(\n",
    "                test_size, list(reversed(cls_exp_sigma)), list(reversed(test_mus))\n",
    "            )\n",
    "        )\n",
    "    crossing_test_stats[\"obs\"] = np.interp(\n",
    "        test_size, list(reversed(cls_obs)), list(reversed(test_mus))\n",
    "    )\n",
    "    return crossing_test_stats\n",
    "\n",
    "\n",
    "\n",
    "results = invert_interval(mu_tests, hypo_tests)\n",
    "\n",
    "print('Observed Limit: {:.2f}'.format(results['obs']))\n",
    "print('-----')\n",
    "for i, n_sigma in enumerate(np.arange(-2, 3)):\n",
    "    print(\n",
    "        'Expected Limit{}: {:.3f}'.format(\n",
    "            '' if n_sigma == 0 else f'({n_sigma} σ)', results['exp'][i]\n",
    "        )\n",
    "    )"
   ]
  },
  {
   "cell_type": "markdown",
   "metadata": {},
   "source": [
    "**Returning the test statistics for the observed and Asimov data**"
   ]
  },
  {
   "cell_type": "code",
   "execution_count": 27,
   "metadata": {},
   "outputs": [
    {
     "name": "stdout",
     "output_type": "stream",
     "text": [
      "q_mu: 0.03612596305548134, Asimov q_mu: 0.09993765525750875\n"
     ]
    }
   ],
   "source": [
    "CLs_obs, test_statistics = pyhf.infer.hypotest(1.0, [51, 48] + pdf.config.auxdata, pdf, test_stat=\"qtilde\", return_expected_set=True)\n",
    "print('q_mu: {}, Asimov q_mu: {}'.format(test_statistics[0], test_statistics[1]))"
   ]
  },
  {
   "cell_type": "code",
   "execution_count": null,
   "metadata": {},
   "outputs": [],
   "source": []
  }
 ],
 "metadata": {
  "kernelspec": {
   "display_name": "Python 3",
   "language": "python",
   "name": "python3"
  },
  "language_info": {
   "codemirror_mode": {
    "name": "ipython",
    "version": 3
   },
   "file_extension": ".py",
   "mimetype": "text/x-python",
   "name": "python",
   "nbconvert_exporter": "python",
   "pygments_lexer": "ipython3",
   "version": "3.9.10"
  }
 },
 "nbformat": 4,
 "nbformat_minor": 2
}
