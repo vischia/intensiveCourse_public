{
 "cells": [
  {
   "cell_type": "markdown",
   "metadata": {},
   "source": [
    "# Tutorial to compute Feldman-Cousins intervals\n",
    "## Copyright Pietro Vischia, 2020, pietro.vischia@cern.ch\n",
    "\n",
    "Companion code for Statistics book to be published 2021"
   ]
  },
  {
   "cell_type": "markdown",
   "metadata": {},
   "source": [
    "The Feldman-Cousins procedure is actually the Neyman procedure, complemented with an ordering principle based on the likelihood ratio.\n",
    "\n",
    "For a generic model, the likelihood ratio test statistic can be written as:\n",
    "\n",
    "q(\\theta) = -2ln( L(data|\\theta, \\hat{\\alpha}_\\theta)/L(data|\\hat{\\theta}, \\hat{\\alpha}))\n",
    "          = -2 ln(L(data|\\theta, \\hat{\\alpha}_\\theta) -2 ln(data|\\hat{\\theta}, \\hat{\\alpha})\n",
    "\n",
    "where \\theta is the parameter of interest, and \\alpha is the (vector of) nuisance parameter that is profiled (i.e. fixed to its maximum likelihood estimate conditional to the value of the POI, in the numerator). The denominator contains the joint global MLEs for both \\theta and \\alpha.\n",
    "\n",
    "The Feldman-Cousins procedure consists, given a critical value \\alpha, in doing the following for each value of the POI \\theta:\n",
    "\n",
    "    - compute the observed test statistic q_{obs}(\\theta)\n",
    "    - compute the expected distribution of q(\\theta) conditional to \\theta being the true value of the parameter (i.e. under the hypothesis of \\theta being the true value)\n",
    "    - accept the point in the region if p_{\\theta} = P[ q(\\theta)>q_{obs}(\\theta)|\\theta]>\\alpha\n",
    "    \n",
    "We shall try it out now."
   ]
  },
  {
   "cell_type": "code",
   "execution_count": 1,
   "metadata": {},
   "outputs": [],
   "source": [
    "import math\n",
    "import numpy as np\n",
    "%matplotlib inline\n",
    "from matplotlib import pyplot as plt"
   ]
  },
  {
   "cell_type": "markdown",
   "metadata": {},
   "source": [
    "# Gaussian PDF\n",
    "\n",
    "Reproduce Figure 10 of the Feldman-Cousins paper https://arxiv.org/abs/physics/9711021\n",
    "to illustrate what happens with a physical boundary.\n",
    "We assume the gaussian has a positive-definite mean, and unit variance\n",
    "\n",
    "For a measurement x, the physically-allowed value of the MLE for theta is therefore max(0,x)\n",
    "\n",
    "The likelihood ratio uses this thetabest in the denominator"
   ]
  },
  {
   "cell_type": "code",
   "execution_count": 2,
   "metadata": {},
   "outputs": [],
   "source": [
    "# 1D Likelihood\n",
    "\n",
    "def sample_from_pdf(theta,N):\n",
    "    # Draw N toys from the gaussian pdf\n",
    "    return np.random.normal(loc=theta, scale=1.0, size=N)\n",
    "\n",
    "\n",
    "def lnL(x, theta):\n",
    "    return math.log(2*math.pi)-1/2.*(x-theta)**2\n",
    "\n",
    "\n",
    "def mle(x):\n",
    "    # This implements the boundary at zero\n",
    "    return max(0.,x)\n",
    "\n",
    "# here we already did the computation of the likelihood ratio (eq. 4.3 of the paper)\n",
    "def q(x, theta):\n",
    "    # The trick: \n",
    "    #return math.exp(-(x-theta)**2/2.) if x>=0 else math.exp(x*theta -theta**2/2)\n",
    "    return -(x-theta)**2/2. if x>=0 else x*theta -theta**2/2\n"
   ]
  },
  {
   "cell_type": "code",
   "execution_count": 3,
   "metadata": {},
   "outputs": [],
   "source": [
    "\n",
    "def qdist(theta,measurements=None):\n",
    "    if measurements is None:\n",
    "        measurements=np.linspace(-2.,4., num=2000)\n",
    "    return [ q(x, theta) for x in measurements] \n",
    "\n",
    "# Given this function, we also need a function to compute its integral\n",
    "\n",
    "def px(qdist,qobs,xspace=None,noprint=False):\n",
    "    # VERY crude integral\n",
    "    if xspace is None:\n",
    "        return(float(sum([ x for x in qdist if x >qobs])/sum(qdist)))\n",
    "    portion=[]\n",
    "    for i,x in zip(qdist,xspace):\n",
    "        if i>qobs:\n",
    "            portion.append(x)\n",
    "\n",
    "    return (portion[-1]-portion[0])/(xspace[-1]-xspace[0])\n"
   ]
  },
  {
   "cell_type": "code",
   "execution_count": null,
   "metadata": {
    "scrolled": true
   },
   "outputs": [
    {
     "name": "stdout",
     "output_type": "stream",
     "text": [
      "Breaking at qcrit 0.6301225298568283\n",
      "Breaking at qcrit 0.6910475165671663\n",
      "Breaking at qcrit 0.7331901575989214\n",
      "Breaking at qcrit 0.7919588317397737\n",
      "Breaking at qcrit 0.8596431075084114\n",
      "Breaking at qcrit 0.8133583210052596\n",
      "Breaking at qcrit 0.8052284383505345\n",
      "Breaking at qcrit 0.777103219433691\n",
      "Breaking at qcrit 0.8195947843796767\n",
      "Breaking at qcrit 0.7905949822402368\n",
      "Breaking at qcrit 0.8062581672210205\n",
      "Breaking at qcrit 0.7952849194152137\n",
      "Breaking at qcrit 0.8024409048162258\n",
      "Breaking at qcrit 0.8175712714204911\n"
     ]
    }
   ],
   "source": [
    "# Compute the intervals\n",
    "# The full MC algorithm is described in Section V.B of the Feldman-Cousins paper\n",
    "# and clarified in https://arxiv.org/abs/1109.0714\n",
    "# To implement the very bried \"such that alpha of the simulated experiments have q<qobs\",\n",
    "# I did a simple scan of the values of the likelihood ratio, starting from the smallest\n",
    "# originally I was scanning in fixed intervals, but for different theta the likelihood\n",
    "# ratio has different ranges and scales, so a fixed-step scan did not work\n",
    "  \n",
    "alpha=0.90 # for a 90% CI\n",
    "xIntervals=[]\n",
    "mymeasurements=np.linspace(-2.,4., num=50)\n",
    "thetaspace=np.linspace(-2.,6., num=50)\n",
    "count=0\n",
    "\n",
    "exampletoys=None\n",
    "examplearr=None\n",
    "exampleqcrit=None\n",
    "for theta in thetaspace:\n",
    "    #1. Draw a toy from the pdf\n",
    "    toys=sample_from_pdf(theta,10000)\n",
    "    #2. Compute the likelihood ratio for this toy\n",
    "    xandqobs = [[xtoy, -q(xtoy,theta)] for xtoy in toys]\n",
    "    #xandqobs= [[xtoy, -lnL(xtoy,theta)+lnL(xtoy,mle(xtoy))] for xtoy in toys]\n",
    "    #3. Find the value of qccritical such that alpha of the toy experiments have q<qcritical\n",
    "    xandqobs=np.array(xandqobs)\n",
    "    xandqobs=xandqobs[xandqobs[:,1].argsort()] # order by likelihood ratio\n",
    "    qcrit=0.\n",
    "    #print('theta=',theta)\n",
    "    for qs in xandqobs[:,1]:\n",
    "        # Since we start from qcrit=0, and the neg-log-likeliood is positive, at first no value will be below\n",
    "        # so the loop is until the fraction becomes > alpha\n",
    "        prob=float(len([ x for x in xandqobs if x[1] <qs])/len(xandqobs))\n",
    "        #if count==25:\n",
    "        #    print(prob, qs, xandqobs)\n",
    "        #if abs(qs)<0.0001:\n",
    "        #    print('GNEGNE', qs, min(t[:,1]),max(t[:,1]), t[:,1])\n",
    "        #if prob==0:\n",
    "        #    print('Prob is zero, qs is ', qs)\n",
    "        #print('\\t%s'%prob)\n",
    "        if prob > alpha:\n",
    "            print('Breaking at qcrit', qcrit)\n",
    "            break\n",
    "        else: # this trick is to pick the last value for which prob >=alpha\n",
    "            qcrit=qs\n",
    "    \n",
    "    #4. The interval is given by the values of x s.t. qobstoy < qcritical\n",
    "    xInterval= [ x[0] for x in xandqobs if x[1] < qcrit]\n",
    "    # Sort by likelihood ratio, even if they should already be \n",
    "    xInterval.sort()\n",
    "    xIntervals.append(xInterval)\n",
    "    if count ==25:\n",
    "        xandqobs=xandqobs[xandqobs[:,0].argsort()]# .sort(key = lambda tup: tup[0])\n",
    "        examplearr=np.array(xandqobs)\n",
    "        exampletoys=toys\n",
    "        exampleinterval=xInterval\n",
    "        exampleqcrit=qcrit\n",
    "        print('THEQCRIT', qcrit)\n",
    "    count+=1\n",
    "    \n",
    "plt.hist(exampletoys, bins=mymeasurements, label='Toys')\n",
    "plt.plot(examplearr[:,0],examplearr[:,1], label='Likelihood ratio')\n",
    "plt.axhline(y=exampleqcrit, color='r', linestyle='-')\n",
    "plt.title('Toys for theta = %s'%thetaspace[25])        \n",
    "    "
   ]
  },
  {
   "cell_type": "code",
   "execution_count": 50,
   "metadata": {},
   "outputs": [
    {
     "data": {
      "text/plain": [
       "<matplotlib.lines.Line2D at 0x7fe1b3a3cfa0>"
      ]
     },
     "execution_count": 50,
     "metadata": {},
     "output_type": "execute_result"
    },
    {
     "data": {
      "image/png": "[encoded data removed]",
      "text/plain": [
       "<Figure size 432x288 with 1 Axes>"
      ]
     },
     "metadata": {
      "needs_background": "light"
     },
     "output_type": "display_data"
    }
   ],
   "source": [
    "plt.plot(examplearr[:,0],examplearr[:,1], label='Likelihood ratio')\n",
    "plt.yscale('log')\n",
    "plt.axhline(y=exampleqcrit, color='r', linestyle='-')\n"
   ]
  },
  {
   "cell_type": "code",
   "execution_count": 44,
   "metadata": {},
   "outputs": [
    {
     "data": {
      "text/plain": [
       "Text(0, 0.5, 'true theta')"
      ]
     },
     "execution_count": 44,
     "metadata": {},
     "output_type": "execute_result"
    },
    {
     "data": {
      "image/png": "[encoded data removed]",
      "text/plain": [
       "<Figure size 432x288 with 1 Axes>"
      ]
     },
     "metadata": {
      "needs_background": "light"
     },
     "output_type": "display_data"
    }
   ],
   "source": [
    "# Plot with range used in the scan\n",
    "\n",
    "fc_intervals=[]\n",
    "fc_colors=[]\n",
    "for i, theta in zip(xIntervals, thetaspace):\n",
    "    if len(i)==0:\n",
    "        continue\n",
    "    #fc_intervals.append([(i[0][0],theta),(i[-1][0],theta)])\n",
    "    #fc_intervals.append([(min(i),theta),(max(i),theta)])\n",
    "    fc_intervals.append([(i[0],theta),(i[-1],theta)])\n",
    "    fc_colors.append([0,1,0,1]) # blue?\n",
    "from matplotlib import collections  as mc\n",
    "import pylab as pl\n",
    "fc_coll = mc.LineCollection(fc_intervals, colors=np.array(fc_colors), linewidths=2)\n",
    "fig, ax = pl.subplots()\n",
    "ax.add_collection(fc_coll)\n",
    "ax.autoscale()\n",
    "plt.xlim((min(mymeasurements),max(mymeasurements)))\n",
    "plt.ylim((min(thetaspace), max(thetaspace)))\n",
    "\n",
    "plt.title('Feldman cousins')\n",
    "plt.xlabel('\\hat{theta}')\n",
    "plt.ylabel('true theta')\n"
   ]
  },
  {
   "cell_type": "code",
   "execution_count": 49,
   "metadata": {},
   "outputs": [
    {
     "data": {
      "text/plain": [
       "Text(0, 0.5, 'true theta')"
      ]
     },
     "execution_count": 49,
     "metadata": {},
     "output_type": "execute_result"
    },
    {
     "data": {
      "image/png": "[encoded data removed]",
      "text/plain": [
       "<Figure size 432x288 with 1 Axes>"
      ]
     },
     "metadata": {
      "needs_background": "light"
     },
     "output_type": "display_data"
    }
   ],
   "source": [
    "# Plot with the range used by Feldman and Cousins\n",
    "other_fc_coll = mc.LineCollection(fc_intervals, colors=np.array(fc_colors), linewidths=2)\n",
    "\n",
    "fig, ax = pl.subplots()\n",
    "ax.add_collection(other_fc_coll)\n",
    "#ax.autoscale()\n",
    "ax.set_xlim((-2.,4.))\n",
    "ax.set_ylim((0.,6.))\n",
    "\n",
    "plt.title('Feldman cousins')\n",
    "plt.xlabel('\\hat{theta}')\n",
    "plt.ylabel('true theta')"
   ]
  },
  {
   "cell_type": "markdown",
   "metadata": {},
   "source": [
    "We reproduced figure 10 of the Feldman-Cousins paper! If you want, you can draw the envelope of the segments, to see the band as is drawn in the paper."
   ]
  },
  {
   "cell_type": "markdown",
   "metadata": {},
   "source": [
    "# Poisson PDF\n",
    "\n",
    "Now let's work with a poisson PDF, to see the effect of a discrete pdf on the construction.\n",
    "\n",
    "To show the effect of different ordering principles applied to the Neyman construction of a confidence belt, we want to reproduce the following figures from the F-C paper:\n",
    "\n",
    "- Figure 5: Neyman construction for upper limits\n",
    "- Figure 6: Neyman construction for central intervals\n",
    "- Figure 7: Neymna construction with Feldman-Cousins (\"unified\") ordering principle\n",
    "\n",
    "We will be then able to compare the differences"
   ]
  },
  {
   "cell_type": "code",
   "execution_count": 52,
   "metadata": {},
   "outputs": [],
   "source": [
    "# insert code here..."
   ]
  },
  {
   "cell_type": "code",
   "execution_count": null,
   "metadata": {},
   "outputs": [],
   "source": []
  },
  {
   "cell_type": "markdown",
   "metadata": {},
   "source": [
    "# Variation of the Gaussian example, where we have the raw data\n",
    "\n",
    "OK, now that figure 10 is reproduced, let's try to work with the raw measurements, i.e. where each measurement consists in ten i.i.d. normal random variables and where our estimator for the gaussian pdf is the mean of the ten measurements.\n",
    "\n",
    "Not sure it's useful, it just adds some programming complexity, with no real new statistical insights.\n",
    "Maybe a more complex likelihood?\n",
    "Everything that is below this cell, doesn't work yet."
   ]
  },
  {
   "cell_type": "code",
   "execution_count": null,
   "metadata": {},
   "outputs": [],
   "source": [
    "#First we need a likelihood function, or even better the log-likelihood\n",
    "\n",
    "# Let's assume we have a sample of N i.i.d. normal random variables with unit variance inserted in a vector x, then the likelihood is:\n",
    "def lnL(x, theta):\n",
    "    # Gaussian likelihood\n",
    "    N=len(x)\n",
    "    return -N/2.*math.log(2*math.pi)-1/2.*sum((x-[theta for i in range(len(x))])**2)\n",
    "\n",
    "# Since we are at it, let's also write down the MLE, that in case of a gaussian likelhood we know analytically it is the mean\n",
    "# We have to slightly modify it, though, to account for the physical boundary (we assume that for a measurement x, the physically-allowed value of the MLE for theta is therefore max(0,x)\n",
    "\n",
    "def mle(x):\n",
    "    return max([sum(x)/len(x), 0.])"
   ]
  },
  {
   "cell_type": "code",
   "execution_count": null,
   "metadata": {},
   "outputs": [],
   "source": [
    "# As a test, now let's plot the log likelihood for a specific data realization\n",
    "#xobs=np.random.normal(loc=10, scale=1.0, size=10)\n",
    "xobs=np.random.normal(loc=0.5, scale=1.0, size=10)\n",
    "\n",
    "# Let's scan a parameter range in theta from 5 to 15\n",
    "thetaspace=np.linspace(5., 15., num=20)\n",
    "print('theta space shape:', thetaspace.shape, 'dataspace:', xobs.shape)\n",
    "\n",
    "mylnL=[ lnL(xobs,theta) for theta in thetaspace ]\n",
    "\n",
    "plt.plot(thetaspace, mylnL, label='lnL function')\n",
    "plt.axvline(x=mle(xobs), c='red', label='MLE')\n",
    "plt.title('Log likelihood for the given xobs')\n",
    "plt.xlabel('theta')\n",
    "plt.ylabel('lnL(theta; xobs)')\n",
    "plt.legend(loc='best')"
   ]
  },
  {
   "cell_type": "code",
   "execution_count": null,
   "metadata": {},
   "outputs": [],
   "source": [
    "# Now we need the likelihood ratio.\n",
    "# Let's first assume we don't have any nuisance parameter.\n",
    "\n",
    "def q(x, theta):\n",
    "    return -2*lnL(x, theta) -2*lnL(x,mle(x)) \n",
    "\n",
    "# Let's plot the likelihood ratio\n",
    "\n",
    "myq=[ q(xobs,theta) for theta in thetaspace ]\n",
    "\n",
    "plt.plot(thetaspace, myq, label='q_xobs(theta)')\n",
    "plt.axvline(x=mle(xobs), c='red', label='MLE')\n",
    "plt.title('Likelihood ratio for the given xobs')\n",
    "plt.xlabel('theta')\n",
    "plt.ylabel('q(xobs,theta)')\n",
    "plt.legend(loc='best')"
   ]
  },
  {
   "cell_type": "code",
   "execution_count": null,
   "metadata": {},
   "outputs": [],
   "source": [
    "# Let's generate the distribution of the test statistic for a generic measurement of the mean\n",
    "\n",
    "def qdist(theta, anal):\n",
    "    measurements=np.linspace(-5.,15., num=2000)\n",
    "    return [ q(np.random.normal(loc=mu, scale=1.0, size=10), theta) for mu in measurements] \n",
    "\n",
    "# Given this function, we also need a function to compute its integral\n",
    "\n",
    "def px(qdist,qobs):\n",
    "    # VERY crude integral\n",
    "    return(float(sum([ x for x in qdist if x >=qobs]) / sum(qdist)))\n"
   ]
  },
  {
   "cell_type": "code",
   "execution_count": null,
   "metadata": {},
   "outputs": [],
   "source": [
    "# Choose the critical value\n",
    "alpha=0.68\n",
    "\n",
    "xIntervals=[]\n",
    "mymeasurements=np.linspace(-5.,15., num=50)\n",
    "\n",
    "for theta in thetaspace:\n",
    "    xInterval=[]\n",
    "    for mu in mymeasurements:\n",
    "        xobsi=np.random.normal(loc=mu, scale=1.0, size=10)\n",
    "        qobs=q(xobsi,theta)\n",
    "        qcond=qdist(theta,True)\n",
    "        if px(qcond,qobs) > alpha:\n",
    "            xInterval.append(theta)\n",
    "    xIntervals.append(xInterval)\n",
    "\n",
    "print(xIntervals)"
   ]
  },
  {
   "cell_type": "code",
   "execution_count": null,
   "metadata": {},
   "outputs": [],
   "source": [
    "# Plot this\n",
    "\n",
    "lower=[]\n",
    "upper=[]\n",
    "for i in xIntervals:\n",
    "    lower.append(min(i))\n",
    "    upper.append(max(i))\n",
    "    \n",
    "plt.plot(mymeasurements,lower)\n",
    "plt.plot(mymeasurements,upper)\n",
    "plt.axvline(x=mle(xobs), c='red', label='MLE')\n",
    "plt.title('Feldman cousins')\n",
    "plt.xlabel('\\hat{theta}')\n",
    "plt.ylabel('true theta')\n",
    "plt.legend(loc='best')"
   ]
  }
 ],
 "metadata": {
  "kernelspec": {
   "display_name": "Python 3",
   "language": "python",
   "name": "python3"
  },
  "language_info": {
   "codemirror_mode": {
    "name": "ipython",
    "version": 3
   },
   "file_extension": ".py",
   "mimetype": "text/x-python",
   "name": "python",
   "nbconvert_exporter": "python",
   "pygments_lexer": "ipython3",
   "version": "3.8.6"
  }
 },
 "nbformat": 4,
 "nbformat_minor": 4
}
