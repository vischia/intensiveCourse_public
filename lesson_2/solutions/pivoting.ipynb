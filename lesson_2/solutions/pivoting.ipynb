{
 "cells": [
  {
   "cell_type": "markdown",
   "metadata": {},
   "source": [
    "# Pivoting\n",
    "\n",
    "A pivot is a quantity whose distribution does not depend on the parameters of the p.d.f. under consideration"
   ]
  },
  {
   "cell_type": "markdown",
   "metadata": {},
   "source": [
    "Consider a Gaussian distribution, $Gaus(\\mu, \\sigma^2)$.\n",
    "\n"
   ]
  },
  {
   "cell_type": "code",
   "execution_count": 1,
   "metadata": {},
   "outputs": [],
   "source": [
    "%matplotlib inline\n",
    "from matplotlib import pyplot as plt\n",
    "import numpy as np\n",
    "import math"
   ]
  },
  {
   "cell_type": "code",
   "execution_count": 2,
   "metadata": {},
   "outputs": [],
   "source": [
    "# First let's start with a gaussian likelihood\n",
    "def pdf(data, mu, sigma):\n",
    "  \n",
    "    return 1./(math.sqrt(2*math.pi)*sigma)*math.exp(-((data-mu)**2/sigma**2).sum())\n",
    "    #return 1./(math.sqrt(2*math.pi)*sigma)*math.exp(-1*argument)\n",
    "    #return 1./(math.sqrt(2*math.pi)*sigma)*math.exp(-(data-theta)**2/sigma**2)\n"
   ]
  },
  {
   "cell_type": "markdown",
   "metadata": {},
   "source": [
    "Let's generate some data"
   ]
  },
  {
   "cell_type": "code",
   "execution_count": 3,
   "metadata": {},
   "outputs": [
    {
     "data": {
      "text/plain": [
       "(array([ 10.,  24.,  70., 148., 224., 225., 177.,  85.,  30.,   7.]),\n",
       " array([-3.19574692, -2.56710137, -1.93845583, -1.30981029, -0.68116474,\n",
       "        -0.0525192 ,  0.57612634,  1.20477189,  1.83341743,  2.46206297,\n",
       "         3.09070852]),\n",
       " <BarContainer object of 10 artists>)"
      ]
     },
     "execution_count": 3,
     "metadata": {},
     "output_type": "execute_result"
    },
    {
     "data": {
      "image/png": "[encoded data removed]",
      "text/plain": [
       "<Figure size 432x288 with 1 Axes>"
      ]
     },
     "metadata": {
      "needs_background": "light"
     },
     "output_type": "display_data"
    }
   ],
   "source": [
    "data=np.random.normal(0, 1, size=1000)\n",
    "\n",
    "plt.hist(data)"
   ]
  },
  {
   "cell_type": "markdown",
   "metadata": {},
   "source": [
    "Let's consider a test statistic $g(x) = \\frac{1}{N} \\sum x_i$ and plot its distribution for several values of $\\mu$"
   ]
  },
  {
   "cell_type": "code",
   "execution_count": 5,
   "metadata": {},
   "outputs": [
    {
     "name": "stdout",
     "output_type": "stream",
     "text": [
      "Mu -10.0\n",
      "Mean -9.999697197569084\n",
      "Variance 0.000996607260343155\n"
     ]
    },
    {
     "data": {
      "image/png": "[encoded data removed]",
      "text/plain": [
       "<Figure size 432x288 with 1 Axes>"
      ]
     },
     "metadata": {
      "needs_background": "light"
     },
     "output_type": "display_data"
    },
    {
     "name": "stdout",
     "output_type": "stream",
     "text": [
      "Mu -5.0\n",
      "Mean -4.999668386754752\n",
      "Variance 0.0009868798736029482\n"
     ]
    },
    {
     "data": {
      "image/png": "[encoded data removed]",
      "text/plain": [
       "<Figure size 432x288 with 1 Axes>"
      ]
     },
     "metadata": {
      "needs_background": "light"
     },
     "output_type": "display_data"
    },
    {
     "name": "stdout",
     "output_type": "stream",
     "text": [
      "Mu 0.0\n",
      "Mean -0.0004048309365239685\n",
      "Variance 0.0009963272591630842\n"
     ]
    },
    {
     "data": {
      "image/png": "[encoded data removed]",
      "text/plain": [
       "<Figure size 432x288 with 1 Axes>"
      ]
     },
     "metadata": {
      "needs_background": "light"
     },
     "output_type": "display_data"
    },
    {
     "name": "stdout",
     "output_type": "stream",
     "text": [
      "Mu 5.0\n",
      "Mean 5.000103098903536\n",
      "Variance 0.0010183921660468806\n"
     ]
    },
    {
     "data": {
      "image/png": "[encoded data removed]",
      "text/plain": [
       "<Figure size 432x288 with 1 Axes>"
      ]
     },
     "metadata": {
      "needs_background": "light"
     },
     "output_type": "display_data"
    },
    {
     "name": "stdout",
     "output_type": "stream",
     "text": [
      "Mu 10.0\n",
      "Mean 9.99985599367104\n",
      "Variance 0.000998093318929044\n"
     ]
    },
    {
     "data": {
      "image/png": "[encoded data removed]",
      "text/plain": [
       "<Figure size 432x288 with 1 Axes>"
      ]
     },
     "metadata": {
      "needs_background": "light"
     },
     "output_type": "display_data"
    }
   ],
   "source": [
    "mu=np.linspace(-10,10,num=5)\n",
    "\n",
    "\n",
    "#y = [ np.mean(np.random.normal(mu_i, 1, size=1000)) for mu_i in mu ]\n",
    "np.random.seed(0)\n",
    "for mu_i in mu:\n",
    "    y = [ np.mean(np.random.normal(mu_i, 1, size=1000)) for _ in range(10000)]\n",
    "    plt.hist(y)\n",
    "    print('Mu', mu_i)\n",
    "    print('Mean',np.mean(y))\n",
    "    print('Variance', np.var(y))\n",
    "    plt.show()"
   ]
  },
  {
   "cell_type": "markdown",
   "metadata": {},
   "source": [
    "Now let's consider the pivot constituted by the Student's $t$ distribution defined as\n",
    "\n",
    "$t = \\frac{\\bar{x}-mu}{var(x)/\\sqrt{N}}$"
   ]
  },
  {
   "cell_type": "code",
   "execution_count": 6,
   "metadata": {},
   "outputs": [],
   "source": [
    "def pivot(data, mu):\n",
    "    return math.sqrt(len(data))*(np.mean(data)-mu)/np.var(data)\n",
    "    \n",
    "    "
   ]
  },
  {
   "cell_type": "markdown",
   "metadata": {},
   "source": [
    "Now let's plot the pivot quantity as a function of the parameter mu"
   ]
  },
  {
   "cell_type": "code",
   "execution_count": 8,
   "metadata": {},
   "outputs": [
    {
     "name": "stdout",
     "output_type": "stream",
     "text": [
      "Mu -10.0\n",
      "Mean 0.010468343822075694\n",
      "Variance 1.0057828048169661\n"
     ]
    },
    {
     "data": {
      "image/png": "[encoded data removed]",
      "text/plain": [
       "<Figure size 432x288 with 1 Axes>"
      ]
     },
     "metadata": {
      "needs_background": "light"
     },
     "output_type": "display_data"
    },
    {
     "name": "stdout",
     "output_type": "stream",
     "text": [
      "Mu -5.0\n",
      "Mean 0.01097042542878095\n",
      "Variance 0.9950896197696926\n"
     ]
    },
    {
     "data": {
      "image/png": "[encoded data removed]",
      "text/plain": [
       "<Figure size 432x288 with 1 Axes>"
      ]
     },
     "metadata": {
      "needs_background": "light"
     },
     "output_type": "display_data"
    },
    {
     "name": "stdout",
     "output_type": "stream",
     "text": [
      "Mu 0.0\n",
      "Mean -0.012264043522868355\n",
      "Variance 1.0045946421294139\n"
     ]
    },
    {
     "data": {
      "image/png": "[encoded data removed]",
      "text/plain": [
       "<Figure size 432x288 with 1 Axes>"
      ]
     },
     "metadata": {
      "needs_background": "light"
     },
     "output_type": "display_data"
    },
    {
     "name": "stdout",
     "output_type": "stream",
     "text": [
      "Mu 5.0\n",
      "Mean 0.002711614533178052\n",
      "Variance 1.0274915235084932\n"
     ]
    },
    {
     "data": {
      "image/png": "[encoded data removed]",
      "text/plain": [
       "<Figure size 432x288 with 1 Axes>"
      ]
     },
     "metadata": {
      "needs_background": "light"
     },
     "output_type": "display_data"
    },
    {
     "name": "stdout",
     "output_type": "stream",
     "text": [
      "Mu 10.0\n",
      "Mean -0.004377714981989071\n",
      "Variance 1.0045601902161105\n"
     ]
    },
    {
     "data": {
      "image/png": "[encoded data removed]",
      "text/plain": [
       "<Figure size 432x288 with 1 Axes>"
      ]
     },
     "metadata": {
      "needs_background": "light"
     },
     "output_type": "display_data"
    }
   ],
   "source": [
    "mu=np.linspace(-10,10,num=5)\n",
    "\n",
    "\n",
    "#y = [ np.mean(np.random.normal(mu_i, 1, size=1000)) for mu_i in mu ]\n",
    "np.random.seed(0)\n",
    "\n",
    "for mu_i in mu:\n",
    "    y = [ pivot(np.random.normal(mu_i, 1, size=1000), mu_i) for _ in range(10000)]\n",
    "    plt.hist(y)\n",
    "    print('Mu', mu_i)\n",
    "    print('Mean',np.mean(y))\n",
    "    print('Variance', np.var(y))\n",
    "    plt.show()"
   ]
  },
  {
   "cell_type": "code",
   "execution_count": null,
   "metadata": {},
   "outputs": [],
   "source": []
  }
 ],
 "metadata": {
  "kernelspec": {
   "display_name": "Python 3",
   "language": "python",
   "name": "python3"
  },
  "language_info": {
   "codemirror_mode": {
    "name": "ipython",
    "version": 3
   },
   "file_extension": ".py",
   "mimetype": "text/x-python",
   "name": "python",
   "nbconvert_exporter": "python",
   "pygments_lexer": "ipython3",
   "version": "3.8.6"
  }
 },
 "nbformat": 4,
 "nbformat_minor": 4
}
