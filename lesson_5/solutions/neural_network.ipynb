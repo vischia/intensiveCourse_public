{
 "cells": [
  {
   "cell_type": "markdown",
   "metadata": {},
   "source": [
    "# Regress the quality of a wine like a boss\n",
    "## Write your own DNN in python\n",
    "\n",
    "Copyright (c) Pietro Vischia, 2020"
   ]
  },
  {
   "cell_type": "markdown",
   "metadata": {},
   "source": [
    "A [study by Cortez et al.](http://dx.doi.org/10.1016/j.dss.2009.05.016) has attempted to estimate the quality of a wine as a function of its physical and chemical qualities.\n",
    "\n",
    "If you can't access it, then [you may consider using someone's institution proxy (click on the link. You may have to use TOR for that)](https://sci-hub.se/https://www.sciencedirect.com/science/article/abs/pii/S0167923609001377?via%3Dihub)\n",
    "\n",
    "Some human expert winetasters have tried out some Portugues red and white wines, and have classified them by quality from 0 to 10.\n",
    "\n",
    "The wines have also been studied by measuring eleven of their their physicochemical qualities, namely:\n",
    "    - fixed acidity\n",
    "    - volatile acidity\n",
    "    - citric acid\n",
    "    - residual sugar\n",
    "    - chlorides\n",
    "    - free sulfur dioxide\n",
    "    - total sulfur dioxide\n",
    "    - density\n",
    "    - pH\n",
    "    - sulphates\n",
    "    - alcohol\n",
    "    \n",
    "A database of the data used for the study is available [in the UCI Machine Learning Datasets Database](https://archive.ics.uci.edu/ml/datasets/Wine+Quality)\n",
    "\n",
    "We will try to learn the function that describes the perceived wine quality as a function of the physiochemical qualities.\n",
    "The idea is that if we can make such a prediction, then winemakers can produce and commercialize wines by estimating in advance whether they will be well-accepted by the market.\n",
    "\n",
    "Here I should go on a long rant about whether quality assessed by human winetasters is actually meaningful.\n",
    "Basically, as far as I can gather, blind tests have shown that winetasting [may actually be decorated BS](https://en.wikipedia.org/wiki/Blind_wine_tasting).\n",
    "\n",
    "Since our target variable is not necessarily reflecting the real quality of the wine, it is not clear of what the network is learning, so it may very well be that the network does not fare much better than randomly assigning a wine quality."
   ]
  },
  {
   "cell_type": "markdown",
   "metadata": {},
   "source": [
    "We will start by downloading the datasets: you need to run the next cell only once (or you will download multiple copies of the same file)\n",
    "\n",
    "There are two databases: a database of Portuguese red wines, and one of vinhos verdes (green wines). Vinho verde is a sweet and delicious type of white wine from Portugal.\n",
    "\n",
    "---\n",
    "\n",
    "We will train a neural network on the red wines. We will then apply it to the white wines, expecting that it should have a worse performance (since it has been trained on the chemical quantities of red wines)\n"
   ]
  },
  {
   "cell_type": "code",
   "execution_count": 1,
   "metadata": {},
   "outputs": [],
   "source": [
    "import wget\n",
    "import os\n",
    "import numpy as np\n",
    "import pandas as pd\n",
    "from sklearn.model_selection import train_test_split\n",
    "from matplotlib import pyplot as plt"
   ]
  },
  {
   "cell_type": "markdown",
   "metadata": {},
   "source": [
    "Let's first get the necessary files"
   ]
  },
  {
   "cell_type": "code",
   "execution_count": 2,
   "metadata": {},
   "outputs": [],
   "source": [
    "\n",
    "\n",
    "files=['https://archive.ics.uci.edu/ml/machine-learning-databases/wine-quality/winequality-red.csv',\n",
    "    'https://archive.ics.uci.edu/ml/machine-learning-databases/wine-quality/winequality-white.csv'\n",
    "]\n",
    "    \n",
    "for f in files:\n",
    "    if not os.path.exists('./%s'%os.path.basename(f)): # so that we can rerun this without worrying of duplicate downloads\n",
    "        wget.download(f, './%s'%os.path.basename(f))\n",
    "\n"
   ]
  },
  {
   "cell_type": "markdown",
   "metadata": {},
   "source": [
    "Load the data into a numpy array. For now we load only the red wines (on which we will train the network)."
   ]
  },
  {
   "cell_type": "code",
   "execution_count": 3,
   "metadata": {},
   "outputs": [
    {
     "data": {
      "text/html": [
       "<div>\n",
       "<style scoped>\n",
       "    .dataframe tbody tr th:only-of-type {\n",
       "        vertical-align: middle;\n",
       "    }\n",
       "\n",
       "    .dataframe tbody tr th {\n",
       "        vertical-align: top;\n",
       "    }\n",
       "\n",
       "    .dataframe thead th {\n",
       "        text-align: right;\n",
       "    }\n",
       "</style>\n",
       "<table border=\"1\" class=\"dataframe\">\n",
       "  <thead>\n",
       "    <tr style=\"text-align: right;\">\n",
       "      <th></th>\n",
       "      <th>fixed acidity</th>\n",
       "      <th>volatile acidity</th>\n",
       "      <th>citric acid</th>\n",
       "      <th>residual sugar</th>\n",
       "      <th>chlorides</th>\n",
       "      <th>free sulfur dioxide</th>\n",
       "      <th>total sulfur dioxide</th>\n",
       "      <th>density</th>\n",
       "      <th>pH</th>\n",
       "      <th>sulphates</th>\n",
       "      <th>alcohol</th>\n",
       "      <th>quality</th>\n",
       "    </tr>\n",
       "  </thead>\n",
       "  <tbody>\n",
       "    <tr>\n",
       "      <th>0</th>\n",
       "      <td>7.4</td>\n",
       "      <td>0.70</td>\n",
       "      <td>0.00</td>\n",
       "      <td>1.9</td>\n",
       "      <td>0.076</td>\n",
       "      <td>11.0</td>\n",
       "      <td>34.0</td>\n",
       "      <td>0.9978</td>\n",
       "      <td>3.51</td>\n",
       "      <td>0.56</td>\n",
       "      <td>9.4</td>\n",
       "      <td>5</td>\n",
       "    </tr>\n",
       "    <tr>\n",
       "      <th>1</th>\n",
       "      <td>7.8</td>\n",
       "      <td>0.88</td>\n",
       "      <td>0.00</td>\n",
       "      <td>2.6</td>\n",
       "      <td>0.098</td>\n",
       "      <td>25.0</td>\n",
       "      <td>67.0</td>\n",
       "      <td>0.9968</td>\n",
       "      <td>3.20</td>\n",
       "      <td>0.68</td>\n",
       "      <td>9.8</td>\n",
       "      <td>5</td>\n",
       "    </tr>\n",
       "    <tr>\n",
       "      <th>2</th>\n",
       "      <td>7.8</td>\n",
       "      <td>0.76</td>\n",
       "      <td>0.04</td>\n",
       "      <td>2.3</td>\n",
       "      <td>0.092</td>\n",
       "      <td>15.0</td>\n",
       "      <td>54.0</td>\n",
       "      <td>0.9970</td>\n",
       "      <td>3.26</td>\n",
       "      <td>0.65</td>\n",
       "      <td>9.8</td>\n",
       "      <td>5</td>\n",
       "    </tr>\n",
       "    <tr>\n",
       "      <th>3</th>\n",
       "      <td>11.2</td>\n",
       "      <td>0.28</td>\n",
       "      <td>0.56</td>\n",
       "      <td>1.9</td>\n",
       "      <td>0.075</td>\n",
       "      <td>17.0</td>\n",
       "      <td>60.0</td>\n",
       "      <td>0.9980</td>\n",
       "      <td>3.16</td>\n",
       "      <td>0.58</td>\n",
       "      <td>9.8</td>\n",
       "      <td>6</td>\n",
       "    </tr>\n",
       "    <tr>\n",
       "      <th>4</th>\n",
       "      <td>7.4</td>\n",
       "      <td>0.70</td>\n",
       "      <td>0.00</td>\n",
       "      <td>1.9</td>\n",
       "      <td>0.076</td>\n",
       "      <td>11.0</td>\n",
       "      <td>34.0</td>\n",
       "      <td>0.9978</td>\n",
       "      <td>3.51</td>\n",
       "      <td>0.56</td>\n",
       "      <td>9.4</td>\n",
       "      <td>5</td>\n",
       "    </tr>\n",
       "  </tbody>\n",
       "</table>\n",
       "</div>"
      ],
      "text/plain": [
       "   fixed acidity  volatile acidity  citric acid  residual sugar  chlorides  \\\n",
       "0            7.4              0.70         0.00             1.9      0.076   \n",
       "1            7.8              0.88         0.00             2.6      0.098   \n",
       "2            7.8              0.76         0.04             2.3      0.092   \n",
       "3           11.2              0.28         0.56             1.9      0.075   \n",
       "4            7.4              0.70         0.00             1.9      0.076   \n",
       "\n",
       "   free sulfur dioxide  total sulfur dioxide  density    pH  sulphates  \\\n",
       "0                 11.0                  34.0   0.9978  3.51       0.56   \n",
       "1                 25.0                  67.0   0.9968  3.20       0.68   \n",
       "2                 15.0                  54.0   0.9970  3.26       0.65   \n",
       "3                 17.0                  60.0   0.9980  3.16       0.58   \n",
       "4                 11.0                  34.0   0.9978  3.51       0.56   \n",
       "\n",
       "   alcohol  quality  \n",
       "0      9.4        5  \n",
       "1      9.8        5  \n",
       "2      9.8        5  \n",
       "3      9.8        6  \n",
       "4      9.4        5  "
      ]
     },
     "execution_count": 3,
     "metadata": {},
     "output_type": "execute_result"
    }
   ],
   "source": [
    "data = pd.read_csv('winequality-red.csv', delimiter=';')\n",
    "\n",
    "    \n",
    "# Visualize the first five entries\n",
    "data.head()\n"
   ]
  },
  {
   "cell_type": "markdown",
   "metadata": {},
   "source": [
    "Usually at this point you have to split your dataset into:\n",
    "\n",
    "- a training dataset: the network will be trained on it;\n",
    "- a test dataset: the network's hyperparameters will be optimized using this dataset;\n",
    "- a validation dataset: the performance of your optimized network is validated in this independent dataset for future reference.\n",
    "\n",
    "Often in HEP people use the validation dataset also as the test dataset. You can do this typically if you don't perform many optimizations of the network, if you don't expect overtraining (the set would be used to assess when to stop training), and if you have enough events that statistical fluctuations are negligible. However,  using the same dataset for testing and validation involves a risk of introducing biases.\n",
    "\n",
    "Some authors switch the names _test_ and _validation_.\n",
    "\n",
    "For simplicity, today we will split only into a training dataset and a test dataset to evaluate the performance of our network.\n",
    "\n",
    "We start by randomly shuffling the rows of the dataset, to make sure we break whatever order might have been used when building the file. We perform the shuffle by sampling randomly without replacement all events of the sample. Finally, we split into two the resulting set of events, and we separate the predictors (physiochemical quantities) and target (sensorial quality) variables.\n",
    "\n",
    "Let's do a 50/50 split, although it's often more common to use as much as 80% events for training and only 20% for testing.\n",
    "\n",
    "If you had to actualy shuffle as if it was a deck of cards, please take note of the works by Persi Diaconis, who has estimated that for example if you want to achieve a really random ordering when shuffling by hand a 52 cards deck, you should shuffle about 7 times."
   ]
  },
  {
   "cell_type": "code",
   "execution_count": 4,
   "metadata": {},
   "outputs": [
    {
     "name": "stdout",
     "output_type": "stream",
     "text": [
      "Sanity check:  1599 == 799 + 800 :  True\n"
     ]
    }
   ],
   "source": [
    "data = data.sample(frac=1).reset_index(drop=True)\n",
    "\n",
    "data_tr=data.head(int(len(data)/2))\n",
    "data_te=data.tail(len(data)-int(len(data)/2))\n",
    "\n",
    "print('Sanity check: ', len(data), '==', len(data_tr), '+', len(data_te),': ', len(data)==len(data_tr)+len(data_te))\n"
   ]
  },
  {
   "cell_type": "markdown",
   "metadata": {},
   "source": [
    "Now we need to separate our predictors from the target variable"
   ]
  },
  {
   "cell_type": "code",
   "execution_count": 5,
   "metadata": {},
   "outputs": [],
   "source": [
    "y_train = np.array(data_tr['quality'])\n",
    "x_train = data_tr.drop(['quality'], axis=1).T\n",
    "y_test  = np.array(data_te['quality'])\n",
    "x_test  = data_te.drop(['quality'], axis=1).T\n",
    "\n"
   ]
  },
  {
   "cell_type": "markdown",
   "metadata": {},
   "source": [
    "Now that we have our dataset ready, it's time to..."
   ]
  },
  {
   "cell_type": "markdown",
   "metadata": {},
   "source": [
    "## Code a neural network from scratch\n",
    "\n",
    "#### Details on neural networks\n",
    "\n",
    "Biology teaches us that the brain is constituted of neurons and connections between them: the synapses.\n",
    "By comparing the brain of various animals, we now think that the more the number of neurons and most importantly of synapses is large, the more complex are the functions that the brain can execute.\n",
    "\n",
    "Let's learn the inner workings of a very simplified mathematical model of brain: an artificual neural network.\n",
    "\n",
    "The first element is the neuron. The simplest model (and one of the first) we have is the [*perceptron*](https://en.wikipedia.org/wiki/Perceptron). The neuron is modelled by a mathematical function that takes some arguments as inputs, combines them linearly, and returns an output value.\n",
    "We denote as *weights* the coefficients of the linear combination.\n",
    "\n",
    "However, we want to be able to approximate nonlinear functions, so we need to plug in a degree of nonlinearity inside the neuron, and we want the neuron to fire only when a certain threshold in the output is reached (a certain amount of stimulation).\n",
    "\n",
    "We modify the output of the neuron by an activation function $f_{act}$: the neuron is activated if the activation function returns a non-zero value. The output of the neuron is defined as:\n",
    "\n",
    "$$\n",
    "y_n = f_{act}(\\sum_i w_{i,n} x_{i,n})\n",
    "$$\n",
    "\n",
    "If the activation function is not linear, we are happy because we have obtained a neuron that gives a nonlinear output and gets activated only if the stimuli it receives are large enough.\n",
    "\n",
    "You will use in this exercise two activation functions:\n",
    "\n",
    "- [ReLU](https://en.wikipedia.org/wiki/Rectifier_(neural_networks)), a function $f(x)$ that returns 0 if $x<0$, and $x$ otherwise;\n",
    "- [sigmoid](https://en.wikipedia.org/wiki/Sigmoid_function), a function that rescales any number into a number between 0 and 1.\n",
    "\n",
    "Here you have a graphical representation of the perceptron, by [https://towardsdatascience.com](https://towardsdatascience.com):\n",
    "\n",
    "![neuron](https://miro.medium.com/max/1435/1*n6sJ4yZQzwKL9wnF5wnVNg.png \"Figure from https://towardsdatascience.com\")\n",
    "\n",
    "Now we have to connectthe neurons. The simplest way is to build layers of neurons, and to connect all neurons of consecutive layers. Starting with the inputs, there is a first layer of neurons. Each neuron combines linearly the inputs and passes the result through activation function to give an output value. The set of outputs of a layer will be the input of the following layer:\n",
    "\n",
    "![neuralnet](https://upload.wikimedia.org/wikipedia/commons/thumb/4/46/Colored_neural_network.svg/800px-Colored_neural_network.svg.png \"Figure from wikipedia\")\n",
    "\n",
    "A neural network is characterized by a set of weights assigned to the connections that define the structure of the network. You can see this as a mathematical function with many free parameters (the weights) that takes the inputs and gives an output. The problem of learning is then the problem of finding the values of the free parameters that minimize the difference between the output and the target distribution that we want to learn.\n",
    "\n",
    "\n",
    "#### The training process\n",
    "\n",
    "Schematically, the training process consists in:\n",
    "\n",
    "- for each epoch\n",
    "   * for each training set data point:\n",
    "      1. calculate the output of each neuron, starting from the inputs to the output\n",
    "      2. compare the output of the last neuron with the reference wine quality\n",
    "      3. propagate the error back towards the inputs, without updating the weights (the error needs to be propagated with respect to the current values of the weights)\n",
    "      4. update all the weights\n",
    "      5. save the value of the loss function for each event\n",
    "   * for each test set data point:\n",
    "      1. save the value of the loss function for each event\n",
    "   * aggregate the errors by computing a Mean Squared Average (MSE)\n",
    "      1. the MSE of the errors in the training dataset events is the average training loss\n",
    "      2. the MSE of the errors in the test dataset is the averate validation loss (you see here I am using validation and test indifferently)\n",
    "\n",
    "The idea is the training will stop when the loss function doesn't improve anymore (it remains stationary at its minimum. If the training loss keeps diminishing and the test loss begins increasing, then we might be starting to learn statistical fluctuations of the training dataset.\n",
    "\n",
    "\n",
    "#### Clarification on the connections between networks (to fix ideas)\n",
    "\n",
    "If the network has the following structure: (input layer: two inputs `A` et `B`;  first internal (_hidden_) layer: two neurons `1a` et `1b`; second hidden layer: two neurons `2a` et `2b`; output `y`), the list of connections (the weights) is:\n",
    "\n",
    "- Four weights connecting the inputs to the layer 1:\n",
    "    - `wA1a` (connects input `A` to neuron `1a`)\n",
    "    - `wA1b` (connects input `A` to neuron `1b`)\n",
    "    - `wB1a` (connects input `B` to neuron `1a`)\n",
    "    - `wB1b` (connects input `B` to neuron `1b`)\n",
    "- Four weights connecting the neurons of layer 1 to those of layer 2:_\n",
    "    - `W1a2a` (connects neuron `1a` to neuron `2a`)\n",
    "    - `W1a2b` (connects neuron `1a` to neuron `2b`)\n",
    "    - `W1b2a` (connects neuron `1b` to neuron `2a`)\n",
    "    - `W1b2b` (connects neuron `1b` to neuron `2b`)\n",
    "- Two weights connecting the neurons of layer 2 to the output y:\n",
    "    - `W2ay` (connects neuron `2a` to output `y`)\n",
    "    - `W2by` (connects neuron `2b` to output `y`)\n",
    "\n",
    "####  Backpropagation\n",
    "\n",
    "To perform backpropagation we need, for each neuron, to propagate back the error of the neurons of the following layer (so you need to go backwards). We use the chain rule.\n",
    "\n",
    "- Error for a neuron of the output layer:\n",
    "\n",
    "$$\n",
    "\\epsilon = (y_{true} - \\hat{y}) * activation\\_derivative(\\hat{y})\n",
    "$$\n",
    "\n",
    "Here $\\hat{y}$ is the output of this output neuron, and $y_{true}$ is the target quality of the wine\n",
    "\n",
    "- Error for a neuron $m$ of an internal layer $N$:\n",
    "\n",
    "$$\n",
    "\\epsilon_{m, N} = \\sum_{k} (w_{k, N+1} * \\epsilon_{k, N+1}) * activation\\_derivative(\\hat{m})\n",
    "$$\n",
    "\n",
    "Here, $\\epsilon_{k,N+1}$ is the error of the neuron $k$ of the following layer (layer $N+1$), $w_{k, N+1}$ is the weight of the connection between the neuron $m$ and the neuron $k$ of the next layer, and $\\hat{m}$ is the output of neuron $m$\n",
    "\n",
    "\n",
    "#### Updating the weights\n",
    "\n",
    "After having backpropagated all the gradient, you have to update all the weights using this formula:\n",
    "\n",
    "$$\n",
    "w = w + learning\\_rate * erreur * input\n",
    "$$\n",
    "\n",
    "Ici $erreur$ is the error calculated via backpropagation, $input$ is the input value of the neuron that had been originally passed to the neuron, and $learning rate$ is a parameter governing how fast we climb down the gradient.\n",
    "\n",
    " \n",
    "#### At the end of each epoch\n",
    "\n",
    "To check for convergence of the network, a standard practice is to aggregeate the errors $\\hat{y} - y_{true}$  of all the events at the end of each epoch, in order to reduce the sensitivity to statistical fluctuations in the training sample. The first pillar of statistical wisdom according to Stigler is precisely aggregation. \n",
    "\n",
    "In analogy with $\\chi^2$ fit, we can for example calculate the $MSE = \\frac{1}{N} \\sum_{events} (\\hat{y}-y_{true})^2$ and plot the MSE as a function of the number of epochs. If the network is improving its predictions, we should see something like this:\n",
    "\n",
    "![mse](https://cern.ch/vischia/mse_pythonCourse.png \"Figure by Pietro Vischia, 2019\")\n",
    "\n",
    "#### Diagnostic plots\n",
    "\n",
    "- 1) MSE as a function of the epoch\n",
    "- 2) Histogram of $\\frac{\\hat{y} - y_{true}}{y_{true}}$ \n",
    "- 3) Histogram of $\\frac{\\hat{y} - y_{true}}{y_{true}}$ as a function of $y_{true}$\n",
    "\n",
    "\n",
    "### Weights initialization\n",
    "- To initialize the weights at the beginning you can use a Gaussian, or a truncated gaussian ( (scipy.stats.truncnorm), or a $random uniform[0,1]$\n"
   ]
  },
  {
   "cell_type": "markdown",
   "metadata": {},
   "source": [
    "---"
   ]
  },
  {
   "cell_type": "markdown",
   "metadata": {},
   "source": [
    "Let's now start with the elements we need.\n",
    "\n",
    "First, we need to realize that although we could in principle model the problem in an object-oriented way, that is define a class `Neuron` and have a class `Network` that collects neurons maybe into instances of a class `Layer`, this doesn't exploit the synthetical concepts behind representing neural network operations in a backgpropagation-friendly way.\n",
    "\n",
    "In other words, the simplest way we can encode the problem is to have in our mind the neural structure as a set of neurons with connections, and write instead in the code the problem as a set of weights that must be combined in ways defined by the neurons.\n",
    "\n",
    "This highlights the fact that the neuron outputs are transient: the real parameters of the network, that we must store for learning and later use, are the weights.\n",
    "\n",
    "All of this to say that we will just store appropriately-sized matrices of weights, and the neurons wil \"exist\" as operations of matrix multiplication between the weights matrices.\n",
    "\n",
    "To make matrix multiplication we will use `np.dot`"
   ]
  },
  {
   "cell_type": "code",
   "execution_count": 6,
   "metadata": {},
   "outputs": [
    {
     "name": "stdout",
     "output_type": "stream",
     "text": [
      "[[ 7 14 21 28]\n",
      " [ 7 14 21 28]]\n"
     ]
    }
   ],
   "source": [
    "# a: 2x3\n",
    "a=[\n",
    "    [2,2,3],\n",
    "    [2,2,3]\n",
    "]\n",
    "# b: 3x4\n",
    "b=[\n",
    "   [1,2,3,4],\n",
    "   [1,2,3,4],\n",
    "   [1,2,3,4]\n",
    "]\n",
    "\n",
    "# a dot b: 2x4\n",
    "\n",
    "print(np.dot(a,b))"
   ]
  },
  {
   "cell_type": "markdown",
   "metadata": {},
   "source": [
    "Next we need to write our activation function and its derivative.\n",
    "\n",
    "Let's implement the sigmoid (we will use it for the output layer).\n",
    "You can also implement the ReLU if you wish.\n"
   ]
  },
  {
   "cell_type": "code",
   "execution_count": 7,
   "metadata": {},
   "outputs": [],
   "source": [
    "def sigmoid(input):    \n",
    "    return 1. / (1. + np.exp(-input))\n",
    "\n",
    "# Define the sigmoid derivative function\n",
    "def sigmoid_derivative(input):\n",
    "    return sigmoid(input) * (1.0 - sigmoid(input))"
   ]
  },
  {
   "cell_type": "markdown",
   "metadata": {},
   "source": [
    "Let's plot both"
   ]
  },
  {
   "cell_type": "code",
   "execution_count": 8,
   "metadata": {},
   "outputs": [
    {
     "data": {
      "text/plain": [
       "<matplotlib.legend.Legend at 0x7fca0a26c490>"
      ]
     },
     "execution_count": 8,
     "metadata": {},
     "output_type": "execute_result"
    },
    {
     "data": {
      "image/png": "[encoded data removed]",
      "text/plain": [
       "<Figure size 432x288 with 1 Axes>"
      ]
     },
     "metadata": {
      "needs_background": "light"
     },
     "output_type": "display_data"
    }
   ],
   "source": [
    "x=np.linspace(-10,10,100)\n",
    "\n",
    "plt.plot(x, sigmoid(x), label='sigmoid(x)')\n",
    "plt.plot(x, sigmoid_derivative(x), label='sigmoid\\'(x)')\n",
    "plt.xlabel('x')\n",
    "plt.ylabel('f(x)')\n",
    "plt.legend(loc='best')"
   ]
  },
  {
   "cell_type": "markdown",
   "metadata": {},
   "source": [
    "The activation function become larger than 0.5 at $x=0$. We need to include the possibility of shifting the value for which the neuron activates. This is done by introducing a bias.\n",
    "\n",
    "The neuron output from\n",
    "\n",
    "$$\n",
    "y = f(\\sum(w_i x_i))\n",
    "$$\n",
    "\n",
    "(that activates for $\\sum(w_i x_i)>0$) will be\n",
    "\n",
    "$$\n",
    "y = f(\\sum(w_i x_i+ w_bb) )\n",
    "$$\n",
    "\n",
    "that activates at a learnable ($w_b$) value. \n"
   ]
  },
  {
   "cell_type": "markdown",
   "metadata": {},
   "source": [
    "Now we need to define what's the structure of the network.\n",
    "\n",
    "Let's assume we have one input layer,  one hidden layer, and one output layer. We now define the number of neurons per each layer. You can generalize to an array of hidden layers."
   ]
  },
  {
   "cell_type": "code",
   "execution_count": 9,
   "metadata": {},
   "outputs": [],
   "source": [
    "n_inputs = x_train.shape[0]\n",
    "n_hidden = 20  \n",
    "n_output = 1\n"
   ]
  },
  {
   "cell_type": "markdown",
   "metadata": {},
   "source": [
    "We now have to create the arrays for the weights and initialize the weights to a starting value, for the first forward pass. The weights will be later updated.\n",
    "\n",
    "Remember to set appropriate sizes to account for the dot products.\n",
    "\n",
    "You can later try to see what changes in the training when initializing e.g. with gaussian weights.\n",
    "\n",
    "Let's also disregard the bias :D"
   ]
  },
  {
   "cell_type": "code",
   "execution_count": 25,
   "metadata": {},
   "outputs": [],
   "source": [
    "# From input layer to hidden layer\n",
    "weights_input_hidden = np.random.uniform(size=(n_inputs, n_hidden))\n",
    "# From hidden layer to output layer\n",
    "weights_hidden_output = np.random.uniform(size=(n_hidden, n_output))"
   ]
  },
  {
   "cell_type": "markdown",
   "metadata": {},
   "source": [
    "Now we need to implement the forward pass, for each layer transition.\n",
    "\n",
    "We can also print out what happens for an untrained forward pass, and the MSE"
   ]
  },
  {
   "cell_type": "code",
   "execution_count": 29,
   "metadata": {},
   "outputs": [
    {
     "name": "stdout",
     "output_type": "stream",
     "text": [
      "MSE: 21.850894689741345\n"
     ]
    }
   ],
   "source": [
    "# calculating hidden layer activations\n",
    "hiddenLayer_linearTransform = np.dot(weights_input_hidden.T, x_train)\n",
    "hiddenLayer_activations = sigmoid(hiddenLayer_linearTransform)\n",
    "\n",
    "# calculating the output\n",
    "outputLayer_linearTransform = np.dot(weights_hidden_output.T, hiddenLayer_activations)\n",
    "output = sigmoid(outputLayer_linearTransform)\n",
    "\n",
    "\n",
    "\n",
    "print('MSE:', np.sum(np.square(y_train - output))/len(y_train))\n"
   ]
  },
  {
   "cell_type": "markdown",
   "metadata": {},
   "source": [
    "Now we need to implement the backpropagation algorithm. We start with the rate of change of the output error"
   ]
  },
  {
   "cell_type": "code",
   "execution_count": 30,
   "metadata": {},
   "outputs": [],
   "source": [
    "error = np.square(y_train - output) / 2\n"
   ]
  },
  {
   "cell_type": "markdown",
   "metadata": {},
   "source": [
    "Now, let's proceed through the layers"
   ]
  },
  {
   "cell_type": "code",
   "execution_count": 31,
   "metadata": {},
   "outputs": [],
   "source": [
    "\n",
    "\n",
    "# calculating rate of change of error w.r.t weight between hidden and output layer\n",
    "error_wrt_output = -(y_train - output)\n",
    "output_wrt_outputLayer_LinearTransform = np.multiply(output, (1 - output))\n",
    "outputLayer_LinearTransform_wrt_weights_hidden_output = hiddenLayer_activations\n",
    "\n",
    "error_wrt_weights_hidden_output = np.dot(\n",
    "            outputLayer_LinearTransform_wrt_weights_hidden_output,\n",
    "        (error_wrt_output * output_wrt_outputLayer_LinearTransform).T,\n",
    "        )\n",
    "\n",
    "# calculating rate of change of error w.r.t weights between input and hidden layer\n",
    "outputLayer_LinearTransform_wrt_hiddenLayer_activations = weights_hidden_output\n",
    "hiddenLayer_activations_wrt_hiddenLayer_linearTransform = np.multiply(\n",
    "            hiddenLayer_activations, (1 - hiddenLayer_activations)\n",
    "    )\n",
    "hiddenLayer_linearTransform_wrt_weights_input_hidden = x_train\n",
    "error_wrt_weights_input_hidden = np.dot(\n",
    "        hiddenLayer_linearTransform_wrt_weights_input_hidden,\n",
    "        (\n",
    "            hiddenLayer_activations_wrt_hiddenLayer_linearTransform\n",
    "            * np.dot(\n",
    "                outputLayer_LinearTransform_wrt_hiddenLayer_activations,\n",
    "                (output_wrt_outputLayer_LinearTransform * error_wrt_output),\n",
    "            )\n",
    "        ).T,\n",
    "    )"
   ]
  },
  {
   "cell_type": "code",
   "execution_count": 32,
   "metadata": {},
   "outputs": [],
   "source": [
    "lr=0.1\n",
    "epochs=1000"
   ]
  },
  {
   "cell_type": "code",
   "execution_count": 33,
   "metadata": {},
   "outputs": [],
   "source": [
    "# updating the weights\n",
    "weights_hidden_output = weights_hidden_output - lr * error_wrt_weights_hidden_output\n",
    "weights_input_hidden = weights_input_hidden - lr * error_wrt_weights_input_hidden\n",
    "\n"
   ]
  },
  {
   "cell_type": "markdown",
   "metadata": {},
   "source": [
    "Now we have described fully the process.\n",
    "\n",
    "Let's put it together in a loop!"
   ]
  },
  {
   "cell_type": "code",
   "execution_count": 34,
   "metadata": {},
   "outputs": [
    {
     "name": "stdout",
     "output_type": "stream",
     "text": [
      "Error at epoch 0 is 10.925134077978809\n"
     ]
    }
   ],
   "source": [
    "losses = []\n",
    "lr=0.1\n",
    "epochs=100\n",
    "\n",
    "for epoch in range(epochs):\n",
    "    ## Forward Propogation\n",
    "\n",
    "    # calculating hidden layer activations\n",
    "    hiddenLayer_linearTransform = np.dot(weights_input_hidden.T, x_train)\n",
    "    hiddenLayer_activations = sigmoid(hiddenLayer_linearTransform)\n",
    "\n",
    "    # calculating the output\n",
    "    outputLayer_linearTransform = np.dot(\n",
    "        weights_hidden_output.T, hiddenLayer_activations\n",
    "    )\n",
    "    output = sigmoid(outputLayer_linearTransform)\n",
    "\n",
    "    ## Backward Propagation\n",
    "\n",
    "    # calculating error\n",
    "    error_blah = np.square(y_train - output) / 2\n",
    "\n",
    "    # calculating rate of change of error w.r.t weight between hidden and output layer\n",
    "    error_wrt_output = -(y_train - output)\n",
    "    output_wrt_outputLayer_LinearTransform = np.multiply(output, (1 - output))\n",
    "    outputLayer_LinearTransform_wrt_weights_hidden_output = hiddenLayer_activations\n",
    "\n",
    "    error_wrt_weights_hidden_output = np.dot(\n",
    "        outputLayer_LinearTransform_wrt_weights_hidden_output,\n",
    "        (error_wrt_output * output_wrt_outputLayer_LinearTransform).T,\n",
    "    )\n",
    "\n",
    "    # calculating rate of change of error w.r.t weights between input and hidden layer\n",
    "    outputLayer_LinearTransform_wrt_hiddenLayer_activations = weights_hidden_output\n",
    "    hiddenLayer_activations_wrt_hiddenLayer_linearTransform = np.multiply(\n",
    "        hiddenLayer_activations, (1 - hiddenLayer_activations)\n",
    "    )\n",
    "    hiddenLayer_linearTransform_wrt_weights_input_hidden = x_train\n",
    "    error_wrt_weights_input_hidden = np.dot(\n",
    "        hiddenLayer_linearTransform_wrt_weights_input_hidden,\n",
    "        (\n",
    "            hiddenLayer_activations_wrt_hiddenLayer_linearTransform\n",
    "            * np.dot(\n",
    "                outputLayer_LinearTransform_wrt_hiddenLayer_activations,\n",
    "                (output_wrt_outputLayer_LinearTransform * error_wrt_output),\n",
    "            )\n",
    "        ).T,\n",
    "    )\n",
    "\n",
    "    # updating the weights\n",
    "    weights_hidden_output = weights_hidden_output - lr * error_wrt_weights_hidden_output\n",
    "    weights_input_hidden = weights_input_hidden - lr * error_wrt_weights_input_hidden\n",
    "\n",
    "    # print error at every 100th epoch\n",
    "    epoch_loss = np.average(error_blah)\n",
    "    if epoch%100==0:\n",
    "        print(f\"Error at epoch {epoch} is {epoch_loss}\")\n",
    "\n",
    "    # appending the error of each epoch\n",
    "    losses.append(epoch_loss)"
   ]
  },
  {
   "cell_type": "code",
   "execution_count": 35,
   "metadata": {},
   "outputs": [
    {
     "data": {
      "text/plain": [
       "[<matplotlib.lines.Line2D at 0x7fca0a01a580>]"
      ]
     },
     "execution_count": 35,
     "metadata": {},
     "output_type": "execute_result"
    },
    {
     "data": {
      "image/png": "[encoded data removed]",
      "text/plain": [
       "<Figure size 432x288 with 1 Axes>"
      ]
     },
     "metadata": {
      "needs_background": "light"
     },
     "output_type": "display_data"
    }
   ],
   "source": [
    "plt.plot(losses)"
   ]
  },
  {
   "cell_type": "code",
   "execution_count": 36,
   "metadata": {},
   "outputs": [
    {
     "name": "stdout",
     "output_type": "stream",
     "text": [
      "[10.925134077978809, 10.925064493899416, 10.925029089344932, 10.925007156477973, 10.924992096466292, 10.92498106313148, 10.924972607607147, 10.924965908458072, 10.924960462918698, 10.924955945031623, 10.924952133733687, 10.924948873560941, 10.924946051863651, 10.92494358494067, 10.924941409255922, 10.92493947568213, 10.924937745617038, 10.92493618829594, 10.924934778890453, 10.92493349713689, 10.924932326329332, 10.92493125256877, 10.924930264195266, 10.924929351352976, 10.924928505653078, 10.924927719909713, 10.924926987931169, 10.924926304353177, 10.924925664504746, 10.92492506429938, 10.924924500146137, 10.924923968876552, 10.924923467684092, 10.924922994073809, 10.92492254582013, 10.924922120931392, 10.924921717619808, 10.924921334275991, 10.924920969447177, 10.924920621818583, 10.924920290197376, 10.924919973498822, 10.924919670734294, 10.924919381000818, 10.924919103471998, 10.924918837390031, 10.924918582058739, 10.924918336837404, 10.924918101135349, 10.924917874407138, 10.92491765614832, 10.924917445891634, 10.92491724320365, 10.924917047681745, 10.924916858951427, 10.92491667666389, 10.92491650049387, 10.924916330137679, 10.924916165311432, 10.924916005749475, 10.924915851202936, 10.92491570143841, 10.924915556236776, 10.924915415392139, 10.924915278710817, 10.924915146010465, 10.924915017119247, 10.924914891875096, 10.924914770125035, 10.92491465172452, 10.924914536536905, 10.924914424432872, 10.924914315289973, 10.924914208992162, 10.924914105429394, 10.924914004497232, 10.924913906096496, 10.92491381013294, 10.924913716516949, 10.924913625163247, 10.924913535990653, 10.924913448921822, 10.924913363883038, 10.924913280803981, 10.924913199617562, 10.92491312025971, 10.924913042669225, 10.92491296678761, 10.924912892558929, 10.924912819929652, 10.924912748848556, 10.924912679266566, 10.924912611136676, 10.924912544413827, 10.924912479054795, 10.92491241501813, 10.924912352264023, 10.924912290754273, 10.924912230452168, 10.924912171322436]\n"
     ]
    }
   ],
   "source": [
    "print(losses)"
   ]
  },
  {
   "cell_type": "code",
   "execution_count": null,
   "metadata": {},
   "outputs": [],
   "source": []
  }
 ],
 "metadata": {
  "kernelspec": {
   "display_name": "Python 3",
   "language": "python",
   "name": "python3"
  },
  "language_info": {
   "codemirror_mode": {
    "name": "ipython",
    "version": 3
   },
   "file_extension": ".py",
   "mimetype": "text/x-python",
   "name": "python",
   "nbconvert_exporter": "python",
   "pygments_lexer": "ipython3",
   "version": "3.8.6"
  }
 },
 "nbformat": 4,
 "nbformat_minor": 4
}
